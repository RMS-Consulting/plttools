{
 "cells": [
  {
   "cell_type": "markdown",
   "metadata": {},
   "source": [
    "# Risk Aggregation POC - PLTs\n",
    "\n",
    "This notebook reads can be used to read in multiple PLTs, rollup the PLTs to an aggregate PLT, and generate statistics and EP metrics from the PLTs.\n",
    "\n",
    "-----"
   ]
  },
  {
   "cell_type": "markdown",
   "metadata": {},
   "source": [
    "### Install necessary libraries"
   ]
  },
  {
   "cell_type": "code",
   "execution_count": null,
   "metadata": {},
   "outputs": [],
   "source": [
    "# %pip install boto3\n",
    "# %pip install fsspec\n",
    "# %pip install s3fs\n",
    "# %pip install pyarrow\n",
    "# %pip install fastparquet"
   ]
  },
  {
   "cell_type": "markdown",
   "metadata": {},
   "source": [
    "### Import necessary libraries"
   ]
  },
  {
   "cell_type": "code",
   "execution_count": null,
   "metadata": {},
   "outputs": [],
   "source": [
    "import os\n",
    "import sys\n",
    "sys.path.append(os.path.abspath(\"plttools/plt.py\"))\n",
    "import pandas as pd\n",
    "import numpy as np\n",
    "import plttools.plt\n",
    "import plttools\n",
    "from plttools.plt import PLT\n",
    "from plttools import plt_calculator\n",
    "import matplotlib.pyplot as pl"
   ]
  },
  {
   "cell_type": "markdown",
   "metadata": {},
   "source": [
    "### Import data from AWS S3\n",
    "AWS credentials may be provided explicitly with s3fs.S3FileSystem,\n",
    "but it is more secure to exclude the credentials from the code.\n",
    "Instead use the AWS CLI to `aws configure` credentials."
   ]
  },
  {
   "cell_type": "code",
   "execution_count": null,
   "metadata": {},
   "outputs": [],
   "source": [
    "import glob\n",
    "import s3fs\n",
    "\n",
    "s3 = s3fs.S3FileSystem(anon=False)\n",
    "files = s3.glob('s3://fannie-mae-phase-3/03 Data Aggregation POC/01 Test/test_4/split/*.parquet')\n",
    "plts = pd.concat([pd.read_parquet('s3://' + fp) for fp in files])"
   ]
  },
  {
   "cell_type": "markdown",
   "metadata": {},
   "source": [
    "### Import local data"
   ]
  },
  {
   "cell_type": "code",
   "execution_count": null,
   "metadata": {},
   "outputs": [],
   "source": [
    "plts = pd.read_parquet('sample_data/')"
   ]
  },
  {
   "cell_type": "markdown",
   "metadata": {},
   "source": [
    "### Create PLT from imported data"
   ]
  },
  {
   "cell_type": "code",
   "execution_count": null,
   "metadata": {
    "scrolled": true
   },
   "outputs": [],
   "source": [
    "json_test = plts.to_dict(orient='records')\n",
    "original_plt = plttools.plt.PLT(data = json_test, number_of_simulations=50000)\n",
    "original_plt.plt.head(5).style"
   ]
  },
  {
   "cell_type": "markdown",
   "metadata": {},
   "source": [
    "### Group account PLTs"
   ]
  },
  {
   "cell_type": "code",
   "execution_count": null,
   "metadata": {},
   "outputs": [],
   "source": [
    "grouped_plt = plt_calculator.group_plts(original_plt)\n",
    "grouped_plt.plt.head(5).style"
   ]
  },
  {
   "cell_type": "markdown",
   "metadata": {},
   "source": [
    "### Rollup PLT"
   ]
  },
  {
   "cell_type": "code",
   "execution_count": null,
   "metadata": {},
   "outputs": [],
   "source": [
    "rolled_up_plt = plt_calculator.roll_up_plts(original_plt)\n",
    "rolled_up_plt.plt.head(5)"
   ]
  },
  {
   "cell_type": "markdown",
   "metadata": {},
   "source": [
    "### Calculate statistics from rolled up PLT"
   ]
  },
  {
   "cell_type": "code",
   "execution_count": null,
   "metadata": {},
   "outputs": [],
   "source": [
    "aal = rolled_up_plt.get_aal()\n",
    "std = rolled_up_plt.get_standard_deviation_risk_modeler()\n",
    "covvar = rolled_up_plt.get_covvar_risk_modeler()\n",
    "print('AAL: ' + aal.astype(str))\n",
    "print('STD: ' + str(std))\n",
    "print('CovVar: ' + str(covvar))"
   ]
  },
  {
   "cell_type": "markdown",
   "metadata": {},
   "source": [
    "### Calculate AEP metrics from PLT"
   ]
  },
  {
   "cell_type": "code",
   "execution_count": null,
   "metadata": {},
   "outputs": [],
   "source": [
    "aep = plt_calculator.calculate_aep_curve(grouped_plt.plt, grouped_plt.simulations)\n",
    "aep_metrics = aep.curve['Loss'][aep.curve['Loss'].index.isin([1/x for x in aep.RETURN_PERIODS])]\n",
    "aep_metrics.index = np.reciprocal(aep_metrics.index)\n",
    "aep_metrics = aep_metrics.rename_axis(\"Return Period\").sort_index(axis=0, ascending=False)\n",
    "\n",
    "# Return AEP results\n",
    "aep_metrics.to_frame().style.format(\"{:,.0f}\")"
   ]
  },
  {
   "cell_type": "markdown",
   "metadata": {},
   "source": [
    "### Calculate OEP metrics from PLT"
   ]
  },
  {
   "cell_type": "code",
   "execution_count": null,
   "metadata": {},
   "outputs": [],
   "source": [
    "oep = plt_calculator.calculate_oep_curve(grouped_plt.plt, grouped_plt.simulations)\n",
    "oep_metrics = oep.curve['Loss'][oep.curve['Loss'].index.isin([1/x for x in oep.RETURN_PERIODS])]\n",
    "oep_metrics.index = np.reciprocal(oep_metrics.index)\n",
    "oep_metrics = oep_metrics.rename_axis(\"Return Period\").sort_index(axis=0, ascending=False)\n",
    "\n",
    "# Return OEP results\n",
    "oep_metrics.to_frame().style.format(\"{:,.0f}\")"
   ]
  }
 ],
 "metadata": {
  "kernelspec": {
   "display_name": "Python 3",
   "language": "python",
   "name": "python3"
  },
  "language_info": {
   "codemirror_mode": {
    "name": "ipython",
    "version": 3
   },
   "file_extension": ".py",
   "mimetype": "text/x-python",
   "name": "python",
   "nbconvert_exporter": "python",
   "pygments_lexer": "ipython3",
   "version": "3.8.5"
  },
  "varInspector": {
   "cols": {
    "lenName": 16,
    "lenType": 16,
    "lenVar": 40
   },
   "kernels_config": {
    "python": {
     "delete_cmd_postfix": "",
     "delete_cmd_prefix": "del ",
     "library": "var_list.py",
     "varRefreshCmd": "print(var_dic_list())"
    },
    "r": {
     "delete_cmd_postfix": ") ",
     "delete_cmd_prefix": "rm(",
     "library": "var_list.r",
     "varRefreshCmd": "cat(var_dic_list()) "
    }
   },
   "types_to_exclude": [
    "module",
    "function",
    "builtin_function_or_method",
    "instance",
    "_Feature"
   ],
   "window_display": false
  }
 },
 "nbformat": 4,
 "nbformat_minor": 4
}
