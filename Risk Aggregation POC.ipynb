{
 "cells": [
  {
   "cell_type": "markdown",
   "metadata": {},
   "source": [
    "# Risk Aggregation POC - PLTs\n",
    "\n",
    "This notebook reads can be used to read in multiple PLTs, rollup the PLTs to an aggregate PLT, and generate statistics and EP metrics from the PLTs.\n",
    "\n",
    "-----"
   ]
  },
  {
   "cell_type": "markdown",
   "metadata": {},
   "source": [
    "*Install necessary libraries*"
   ]
  },
  {
   "cell_type": "code",
   "execution_count": 1,
   "metadata": {
    "ExecuteTime": {
     "end_time": "2021-11-15T15:50:41.750690Z",
     "start_time": "2021-11-15T15:50:41.748285Z"
    }
   },
   "outputs": [],
   "source": [
    "# %pip install boto3\n",
    "# %pip install fsspec\n",
    "# %pip install s3fs\n",
    "# %pip install pyarrow\n",
    "# %pip install fastparquet"
   ]
  },
  {
   "cell_type": "code",
   "execution_count": 2,
   "metadata": {
    "ExecuteTime": {
     "end_time": "2021-11-15T15:50:42.672686Z",
     "start_time": "2021-11-15T15:50:41.752599Z"
    }
   },
   "outputs": [],
   "source": [
    "# Import necessary libraries\n",
    "import os\n",
    "import sys\n",
    "sys.path.append(os.path.abspath(\"plttools/plt.py\"))\n",
    "import pandas as pd\n",
    "import numpy as np\n",
    "import plttools.plt\n",
    "import plttools\n",
    "from plttools.plt import PLT\n",
    "from plttools import plt_calculator\n",
    "import matplotlib.pyplot as pl"
   ]
  },
  {
   "cell_type": "code",
   "execution_count": 3,
   "metadata": {
    "ExecuteTime": {
     "end_time": "2021-11-15T15:50:45.817323Z",
     "start_time": "2021-11-15T15:50:42.675474Z"
    }
   },
   "outputs": [],
   "source": [
    "# Import data from AWS S3\n",
    "# AWS credentials may be provided explicitly with s3fs.S3FileSystem,\n",
    "# but it is more secure to exclude the credentials from the code.\n",
    "# Instead use the AWS CLI to `aws configure` credentials.\n",
    "\n",
    "import glob\n",
    "import s3fs\n",
    "\n",
    "s3 = s3fs.S3FileSystem(anon=False)\n",
    "files = s3.glob('s3://fannie-mae-phase-3/03 Data Aggregation POC/01 Test/test_4/split/*.parquet')\n",
    "plts = pd.concat([pd.read_parquet('s3://' + fp) for fp in files])"
   ]
  },
  {
   "cell_type": "code",
   "execution_count": 4,
   "metadata": {
    "ExecuteTime": {
     "end_time": "2021-11-15T15:50:46.128592Z",
     "start_time": "2021-11-15T15:50:45.819326Z"
    }
   },
   "outputs": [],
   "source": [
    "# Import local data\n",
    "plts = pd.read_parquet('sample_data/')"
   ]
  },
  {
   "cell_type": "code",
   "execution_count": 5,
   "metadata": {
    "ExecuteTime": {
     "end_time": "2021-11-15T15:50:46.906205Z",
     "start_time": "2021-11-15T15:50:46.130725Z"
    },
    "scrolled": true
   },
   "outputs": [
    {
     "data": {
      "text/html": [
       "<style  type=\"text/css\" >\n",
       "</style><table id=\"T_cc6ecef0_462b_11ec_b7a4_acde48001122\" ><thead>    <tr>        <th class=\"blank level0\" ></th>        <th class=\"col_heading level0 col0\" >AccgrpId</th>        <th class=\"col_heading level0 col1\" >AccountName</th>        <th class=\"col_heading level0 col2\" >Lob</th>        <th class=\"col_heading level0 col3\" >LobId</th>        <th class=\"col_heading level0 col4\" >CedantId</th>        <th class=\"col_heading level0 col5\" >LossType</th>        <th class=\"col_heading level0 col6\" >PeriodId</th>        <th class=\"col_heading level0 col7\" >Weight</th>        <th class=\"col_heading level0 col8\" >EventId</th>        <th class=\"col_heading level0 col9\" >EventDate</th>        <th class=\"col_heading level0 col10\" >LossDate</th>        <th class=\"col_heading level0 col11\" >Loss</th>    </tr></thead><tbody>\n",
       "                <tr>\n",
       "                        <th id=\"T_cc6ecef0_462b_11ec_b7a4_acde48001122level0_row0\" class=\"row_heading level0 row0\" >0</th>\n",
       "                        <td id=\"T_cc6ecef0_462b_11ec_b7a4_acde48001122row0_col0\" class=\"data row0 col0\" >128407</td>\n",
       "                        <td id=\"T_cc6ecef0_462b_11ec_b7a4_acde48001122row0_col1\" class=\"data row0 col1\" >LA_128407</td>\n",
       "                        <td id=\"T_cc6ecef0_462b_11ec_b7a4_acde48001122row0_col2\" class=\"data row0 col2\" >Unknown</td>\n",
       "                        <td id=\"T_cc6ecef0_462b_11ec_b7a4_acde48001122row0_col3\" class=\"data row0 col3\" >0</td>\n",
       "                        <td id=\"T_cc6ecef0_462b_11ec_b7a4_acde48001122row0_col4\" class=\"data row0 col4\" >Unknown</td>\n",
       "                        <td id=\"T_cc6ecef0_462b_11ec_b7a4_acde48001122row0_col5\" class=\"data row0 col5\" >All</td>\n",
       "                        <td id=\"T_cc6ecef0_462b_11ec_b7a4_acde48001122row0_col6\" class=\"data row0 col6\" >9</td>\n",
       "                        <td id=\"T_cc6ecef0_462b_11ec_b7a4_acde48001122row0_col7\" class=\"data row0 col7\" >0.000020</td>\n",
       "                        <td id=\"T_cc6ecef0_462b_11ec_b7a4_acde48001122row0_col8\" class=\"data row0 col8\" >2876228</td>\n",
       "                        <td id=\"T_cc6ecef0_462b_11ec_b7a4_acde48001122row0_col9\" class=\"data row0 col9\" >2020-07-23 00:00:00</td>\n",
       "                        <td id=\"T_cc6ecef0_462b_11ec_b7a4_acde48001122row0_col10\" class=\"data row0 col10\" >2020-07-23 00:00:00</td>\n",
       "                        <td id=\"T_cc6ecef0_462b_11ec_b7a4_acde48001122row0_col11\" class=\"data row0 col11\" >896022.058517</td>\n",
       "            </tr>\n",
       "            <tr>\n",
       "                        <th id=\"T_cc6ecef0_462b_11ec_b7a4_acde48001122level0_row1\" class=\"row_heading level0 row1\" >1</th>\n",
       "                        <td id=\"T_cc6ecef0_462b_11ec_b7a4_acde48001122row1_col0\" class=\"data row1 col0\" >128407</td>\n",
       "                        <td id=\"T_cc6ecef0_462b_11ec_b7a4_acde48001122row1_col1\" class=\"data row1 col1\" >LA_128407</td>\n",
       "                        <td id=\"T_cc6ecef0_462b_11ec_b7a4_acde48001122row1_col2\" class=\"data row1 col2\" >Unknown</td>\n",
       "                        <td id=\"T_cc6ecef0_462b_11ec_b7a4_acde48001122row1_col3\" class=\"data row1 col3\" >0</td>\n",
       "                        <td id=\"T_cc6ecef0_462b_11ec_b7a4_acde48001122row1_col4\" class=\"data row1 col4\" >Unknown</td>\n",
       "                        <td id=\"T_cc6ecef0_462b_11ec_b7a4_acde48001122row1_col5\" class=\"data row1 col5\" >All</td>\n",
       "                        <td id=\"T_cc6ecef0_462b_11ec_b7a4_acde48001122row1_col6\" class=\"data row1 col6\" >47</td>\n",
       "                        <td id=\"T_cc6ecef0_462b_11ec_b7a4_acde48001122row1_col7\" class=\"data row1 col7\" >0.000020</td>\n",
       "                        <td id=\"T_cc6ecef0_462b_11ec_b7a4_acde48001122row1_col8\" class=\"data row1 col8\" >2866964</td>\n",
       "                        <td id=\"T_cc6ecef0_462b_11ec_b7a4_acde48001122row1_col9\" class=\"data row1 col9\" >2020-06-27 00:00:00</td>\n",
       "                        <td id=\"T_cc6ecef0_462b_11ec_b7a4_acde48001122row1_col10\" class=\"data row1 col10\" >2020-06-27 00:00:00</td>\n",
       "                        <td id=\"T_cc6ecef0_462b_11ec_b7a4_acde48001122row1_col11\" class=\"data row1 col11\" >732440.366140</td>\n",
       "            </tr>\n",
       "            <tr>\n",
       "                        <th id=\"T_cc6ecef0_462b_11ec_b7a4_acde48001122level0_row2\" class=\"row_heading level0 row2\" >2</th>\n",
       "                        <td id=\"T_cc6ecef0_462b_11ec_b7a4_acde48001122row2_col0\" class=\"data row2 col0\" >128407</td>\n",
       "                        <td id=\"T_cc6ecef0_462b_11ec_b7a4_acde48001122row2_col1\" class=\"data row2 col1\" >LA_128407</td>\n",
       "                        <td id=\"T_cc6ecef0_462b_11ec_b7a4_acde48001122row2_col2\" class=\"data row2 col2\" >Unknown</td>\n",
       "                        <td id=\"T_cc6ecef0_462b_11ec_b7a4_acde48001122row2_col3\" class=\"data row2 col3\" >0</td>\n",
       "                        <td id=\"T_cc6ecef0_462b_11ec_b7a4_acde48001122row2_col4\" class=\"data row2 col4\" >Unknown</td>\n",
       "                        <td id=\"T_cc6ecef0_462b_11ec_b7a4_acde48001122row2_col5\" class=\"data row2 col5\" >All</td>\n",
       "                        <td id=\"T_cc6ecef0_462b_11ec_b7a4_acde48001122row2_col6\" class=\"data row2 col6\" >103</td>\n",
       "                        <td id=\"T_cc6ecef0_462b_11ec_b7a4_acde48001122row2_col7\" class=\"data row2 col7\" >0.000020</td>\n",
       "                        <td id=\"T_cc6ecef0_462b_11ec_b7a4_acde48001122row2_col8\" class=\"data row2 col8\" >2851368</td>\n",
       "                        <td id=\"T_cc6ecef0_462b_11ec_b7a4_acde48001122row2_col9\" class=\"data row2 col9\" >2020-08-26 00:00:00</td>\n",
       "                        <td id=\"T_cc6ecef0_462b_11ec_b7a4_acde48001122row2_col10\" class=\"data row2 col10\" >2020-08-26 00:00:00</td>\n",
       "                        <td id=\"T_cc6ecef0_462b_11ec_b7a4_acde48001122row2_col11\" class=\"data row2 col11\" >469704.898430</td>\n",
       "            </tr>\n",
       "            <tr>\n",
       "                        <th id=\"T_cc6ecef0_462b_11ec_b7a4_acde48001122level0_row3\" class=\"row_heading level0 row3\" >3</th>\n",
       "                        <td id=\"T_cc6ecef0_462b_11ec_b7a4_acde48001122row3_col0\" class=\"data row3 col0\" >128407</td>\n",
       "                        <td id=\"T_cc6ecef0_462b_11ec_b7a4_acde48001122row3_col1\" class=\"data row3 col1\" >LA_128407</td>\n",
       "                        <td id=\"T_cc6ecef0_462b_11ec_b7a4_acde48001122row3_col2\" class=\"data row3 col2\" >Unknown</td>\n",
       "                        <td id=\"T_cc6ecef0_462b_11ec_b7a4_acde48001122row3_col3\" class=\"data row3 col3\" >0</td>\n",
       "                        <td id=\"T_cc6ecef0_462b_11ec_b7a4_acde48001122row3_col4\" class=\"data row3 col4\" >Unknown</td>\n",
       "                        <td id=\"T_cc6ecef0_462b_11ec_b7a4_acde48001122row3_col5\" class=\"data row3 col5\" >All</td>\n",
       "                        <td id=\"T_cc6ecef0_462b_11ec_b7a4_acde48001122row3_col6\" class=\"data row3 col6\" >104</td>\n",
       "                        <td id=\"T_cc6ecef0_462b_11ec_b7a4_acde48001122row3_col7\" class=\"data row3 col7\" >0.000020</td>\n",
       "                        <td id=\"T_cc6ecef0_462b_11ec_b7a4_acde48001122row3_col8\" class=\"data row3 col8\" >2855112</td>\n",
       "                        <td id=\"T_cc6ecef0_462b_11ec_b7a4_acde48001122row3_col9\" class=\"data row3 col9\" >2020-09-17 00:00:00</td>\n",
       "                        <td id=\"T_cc6ecef0_462b_11ec_b7a4_acde48001122row3_col10\" class=\"data row3 col10\" >2020-09-17 00:00:00</td>\n",
       "                        <td id=\"T_cc6ecef0_462b_11ec_b7a4_acde48001122row3_col11\" class=\"data row3 col11\" >850869.472687</td>\n",
       "            </tr>\n",
       "            <tr>\n",
       "                        <th id=\"T_cc6ecef0_462b_11ec_b7a4_acde48001122level0_row4\" class=\"row_heading level0 row4\" >4</th>\n",
       "                        <td id=\"T_cc6ecef0_462b_11ec_b7a4_acde48001122row4_col0\" class=\"data row4 col0\" >128407</td>\n",
       "                        <td id=\"T_cc6ecef0_462b_11ec_b7a4_acde48001122row4_col1\" class=\"data row4 col1\" >LA_128407</td>\n",
       "                        <td id=\"T_cc6ecef0_462b_11ec_b7a4_acde48001122row4_col2\" class=\"data row4 col2\" >Unknown</td>\n",
       "                        <td id=\"T_cc6ecef0_462b_11ec_b7a4_acde48001122row4_col3\" class=\"data row4 col3\" >0</td>\n",
       "                        <td id=\"T_cc6ecef0_462b_11ec_b7a4_acde48001122row4_col4\" class=\"data row4 col4\" >Unknown</td>\n",
       "                        <td id=\"T_cc6ecef0_462b_11ec_b7a4_acde48001122row4_col5\" class=\"data row4 col5\" >All</td>\n",
       "                        <td id=\"T_cc6ecef0_462b_11ec_b7a4_acde48001122row4_col6\" class=\"data row4 col6\" >107</td>\n",
       "                        <td id=\"T_cc6ecef0_462b_11ec_b7a4_acde48001122row4_col7\" class=\"data row4 col7\" >0.000020</td>\n",
       "                        <td id=\"T_cc6ecef0_462b_11ec_b7a4_acde48001122row4_col8\" class=\"data row4 col8\" >2872546</td>\n",
       "                        <td id=\"T_cc6ecef0_462b_11ec_b7a4_acde48001122row4_col9\" class=\"data row4 col9\" >2020-08-30 00:00:00</td>\n",
       "                        <td id=\"T_cc6ecef0_462b_11ec_b7a4_acde48001122row4_col10\" class=\"data row4 col10\" >2020-08-30 00:00:00</td>\n",
       "                        <td id=\"T_cc6ecef0_462b_11ec_b7a4_acde48001122row4_col11\" class=\"data row4 col11\" >974882.360239</td>\n",
       "            </tr>\n",
       "    </tbody></table>"
      ],
      "text/plain": [
       "<pandas.io.formats.style.Styler at 0x7fddc5c52dc0>"
      ]
     },
     "execution_count": 5,
     "metadata": {},
     "output_type": "execute_result"
    }
   ],
   "source": [
    "# Create PLT from imported data\n",
    "json_test = plts.to_dict(orient='records')\n",
    "original_plt = plttools.plt.PLT(data = json_test, number_of_simulations=50000)\n",
    "original_plt.plt.head(5).style"
   ]
  },
  {
   "cell_type": "code",
   "execution_count": 6,
   "metadata": {
    "ExecuteTime": {
     "end_time": "2021-11-15T15:50:46.957599Z",
     "start_time": "2021-11-15T15:50:46.908295Z"
    }
   },
   "outputs": [
    {
     "data": {
      "text/html": [
       "<style  type=\"text/css\" >\n",
       "</style><table id=\"T_cc771a60_462b_11ec_b7a4_acde48001122\" ><thead>    <tr>        <th class=\"blank level0\" ></th>        <th class=\"col_heading level0 col0\" >PeriodId</th>        <th class=\"col_heading level0 col1\" >EventId</th>        <th class=\"col_heading level0 col2\" >EventDate</th>        <th class=\"col_heading level0 col3\" >LossDate</th>        <th class=\"col_heading level0 col4\" >Weight</th>        <th class=\"col_heading level0 col5\" >Loss</th>    </tr></thead><tbody>\n",
       "                <tr>\n",
       "                        <th id=\"T_cc771a60_462b_11ec_b7a4_acde48001122level0_row0\" class=\"row_heading level0 row0\" >0</th>\n",
       "                        <td id=\"T_cc771a60_462b_11ec_b7a4_acde48001122row0_col0\" class=\"data row0 col0\" >6</td>\n",
       "                        <td id=\"T_cc771a60_462b_11ec_b7a4_acde48001122row0_col1\" class=\"data row0 col1\" >10480747</td>\n",
       "                        <td id=\"T_cc771a60_462b_11ec_b7a4_acde48001122row0_col2\" class=\"data row0 col2\" >2020-01-13 00:00:00</td>\n",
       "                        <td id=\"T_cc771a60_462b_11ec_b7a4_acde48001122row0_col3\" class=\"data row0 col3\" >2020-02-18 00:00:00</td>\n",
       "                        <td id=\"T_cc771a60_462b_11ec_b7a4_acde48001122row0_col4\" class=\"data row0 col4\" >0.000020</td>\n",
       "                        <td id=\"T_cc771a60_462b_11ec_b7a4_acde48001122row0_col5\" class=\"data row0 col5\" >137502.986024</td>\n",
       "            </tr>\n",
       "            <tr>\n",
       "                        <th id=\"T_cc771a60_462b_11ec_b7a4_acde48001122level0_row1\" class=\"row_heading level0 row1\" >1</th>\n",
       "                        <td id=\"T_cc771a60_462b_11ec_b7a4_acde48001122row1_col0\" class=\"data row1 col0\" >9</td>\n",
       "                        <td id=\"T_cc771a60_462b_11ec_b7a4_acde48001122row1_col1\" class=\"data row1 col1\" >2876228</td>\n",
       "                        <td id=\"T_cc771a60_462b_11ec_b7a4_acde48001122row1_col2\" class=\"data row1 col2\" >2020-07-23 00:00:00</td>\n",
       "                        <td id=\"T_cc771a60_462b_11ec_b7a4_acde48001122row1_col3\" class=\"data row1 col3\" >2020-07-23 00:00:00</td>\n",
       "                        <td id=\"T_cc771a60_462b_11ec_b7a4_acde48001122row1_col4\" class=\"data row1 col4\" >0.000020</td>\n",
       "                        <td id=\"T_cc771a60_462b_11ec_b7a4_acde48001122row1_col5\" class=\"data row1 col5\" >2439354.454580</td>\n",
       "            </tr>\n",
       "            <tr>\n",
       "                        <th id=\"T_cc771a60_462b_11ec_b7a4_acde48001122level0_row2\" class=\"row_heading level0 row2\" >2</th>\n",
       "                        <td id=\"T_cc771a60_462b_11ec_b7a4_acde48001122row2_col0\" class=\"data row2 col0\" >11</td>\n",
       "                        <td id=\"T_cc771a60_462b_11ec_b7a4_acde48001122row2_col1\" class=\"data row2 col1\" >2864967</td>\n",
       "                        <td id=\"T_cc771a60_462b_11ec_b7a4_acde48001122row2_col2\" class=\"data row2 col2\" >2020-09-09 00:00:00</td>\n",
       "                        <td id=\"T_cc771a60_462b_11ec_b7a4_acde48001122row2_col3\" class=\"data row2 col3\" >2020-09-16 00:00:00</td>\n",
       "                        <td id=\"T_cc771a60_462b_11ec_b7a4_acde48001122row2_col4\" class=\"data row2 col4\" >0.000020</td>\n",
       "                        <td id=\"T_cc771a60_462b_11ec_b7a4_acde48001122row2_col5\" class=\"data row2 col5\" >718498.106657</td>\n",
       "            </tr>\n",
       "            <tr>\n",
       "                        <th id=\"T_cc771a60_462b_11ec_b7a4_acde48001122level0_row3\" class=\"row_heading level0 row3\" >3</th>\n",
       "                        <td id=\"T_cc771a60_462b_11ec_b7a4_acde48001122row3_col0\" class=\"data row3 col0\" >13</td>\n",
       "                        <td id=\"T_cc771a60_462b_11ec_b7a4_acde48001122row3_col1\" class=\"data row3 col1\" >9350305</td>\n",
       "                        <td id=\"T_cc771a60_462b_11ec_b7a4_acde48001122row3_col2\" class=\"data row3 col2\" >2020-10-18 00:00:00</td>\n",
       "                        <td id=\"T_cc771a60_462b_11ec_b7a4_acde48001122row3_col3\" class=\"data row3 col3\" >2020-10-28 00:00:00</td>\n",
       "                        <td id=\"T_cc771a60_462b_11ec_b7a4_acde48001122row3_col4\" class=\"data row3 col4\" >0.000020</td>\n",
       "                        <td id=\"T_cc771a60_462b_11ec_b7a4_acde48001122row3_col5\" class=\"data row3 col5\" >150942.771282</td>\n",
       "            </tr>\n",
       "            <tr>\n",
       "                        <th id=\"T_cc771a60_462b_11ec_b7a4_acde48001122level0_row4\" class=\"row_heading level0 row4\" >4</th>\n",
       "                        <td id=\"T_cc771a60_462b_11ec_b7a4_acde48001122row4_col0\" class=\"data row4 col0\" >26</td>\n",
       "                        <td id=\"T_cc771a60_462b_11ec_b7a4_acde48001122row4_col1\" class=\"data row4 col1\" >2863292</td>\n",
       "                        <td id=\"T_cc771a60_462b_11ec_b7a4_acde48001122row4_col2\" class=\"data row4 col2\" >2020-08-12 00:00:00</td>\n",
       "                        <td id=\"T_cc771a60_462b_11ec_b7a4_acde48001122row4_col3\" class=\"data row4 col3\" >2020-08-12 00:00:00</td>\n",
       "                        <td id=\"T_cc771a60_462b_11ec_b7a4_acde48001122row4_col4\" class=\"data row4 col4\" >0.000020</td>\n",
       "                        <td id=\"T_cc771a60_462b_11ec_b7a4_acde48001122row4_col5\" class=\"data row4 col5\" >1231135.765835</td>\n",
       "            </tr>\n",
       "    </tbody></table>"
      ],
      "text/plain": [
       "<pandas.io.formats.style.Styler at 0x7fddc5c60f40>"
      ]
     },
     "execution_count": 6,
     "metadata": {},
     "output_type": "execute_result"
    }
   ],
   "source": [
    "# Group account PLTs\n",
    "grouped_plt = plt_calculator.group_plts(original_plt)\n",
    "grouped_plt.plt.head(5).style"
   ]
  },
  {
   "cell_type": "code",
   "execution_count": 7,
   "metadata": {
    "ExecuteTime": {
     "end_time": "2021-11-15T15:50:46.987945Z",
     "start_time": "2021-11-15T15:50:46.959182Z"
    }
   },
   "outputs": [
    {
     "data": {
      "text/html": [
       "<div>\n",
       "<style scoped>\n",
       "    .dataframe tbody tr th:only-of-type {\n",
       "        vertical-align: middle;\n",
       "    }\n",
       "\n",
       "    .dataframe tbody tr th {\n",
       "        vertical-align: top;\n",
       "    }\n",
       "\n",
       "    .dataframe thead th {\n",
       "        text-align: right;\n",
       "    }\n",
       "</style>\n",
       "<table border=\"1\" class=\"dataframe\">\n",
       "  <thead>\n",
       "    <tr style=\"text-align: right;\">\n",
       "      <th></th>\n",
       "      <th>PeriodId</th>\n",
       "      <th>Weight</th>\n",
       "      <th>Loss</th>\n",
       "    </tr>\n",
       "  </thead>\n",
       "  <tbody>\n",
       "    <tr>\n",
       "      <th>0</th>\n",
       "      <td>6</td>\n",
       "      <td>0.00002</td>\n",
       "      <td>1.375030e+05</td>\n",
       "    </tr>\n",
       "    <tr>\n",
       "      <th>1</th>\n",
       "      <td>9</td>\n",
       "      <td>0.00002</td>\n",
       "      <td>2.439354e+06</td>\n",
       "    </tr>\n",
       "    <tr>\n",
       "      <th>2</th>\n",
       "      <td>11</td>\n",
       "      <td>0.00002</td>\n",
       "      <td>7.184981e+05</td>\n",
       "    </tr>\n",
       "    <tr>\n",
       "      <th>3</th>\n",
       "      <td>13</td>\n",
       "      <td>0.00002</td>\n",
       "      <td>1.509428e+05</td>\n",
       "    </tr>\n",
       "    <tr>\n",
       "      <th>4</th>\n",
       "      <td>26</td>\n",
       "      <td>0.00002</td>\n",
       "      <td>1.231136e+06</td>\n",
       "    </tr>\n",
       "  </tbody>\n",
       "</table>\n",
       "</div>"
      ],
      "text/plain": [
       "  PeriodId   Weight          Loss\n",
       "0        6  0.00002  1.375030e+05\n",
       "1        9  0.00002  2.439354e+06\n",
       "2       11  0.00002  7.184981e+05\n",
       "3       13  0.00002  1.509428e+05\n",
       "4       26  0.00002  1.231136e+06"
      ]
     },
     "execution_count": 7,
     "metadata": {},
     "output_type": "execute_result"
    }
   ],
   "source": [
    "# Rollup PLT\n",
    "rolled_up_plt = plt_calculator.roll_up_plts(original_plt)\n",
    "rolled_up_plt.plt.head(5)"
   ]
  },
  {
   "cell_type": "code",
   "execution_count": 8,
   "metadata": {
    "ExecuteTime": {
     "end_time": "2021-11-15T15:50:47.033783Z",
     "start_time": "2021-11-15T15:50:46.989977Z"
    }
   },
   "outputs": [
    {
     "name": "stdout",
     "output_type": "stream",
     "text": [
      "AAL: 332927.851817096\n",
      "STD: 883685.9186214344\n",
      "CovVar: 2.654286548312926\n"
     ]
    }
   ],
   "source": [
    "# Calculate statistics from rolled up PLT\n",
    "aal = rolled_up_plt.get_aal()\n",
    "std = rolled_up_plt.get_standard_deviation_risk_modeler()\n",
    "covvar = rolled_up_plt.get_covvar_risk_modeler()\n",
    "print('AAL: ' + aal.astype(str))\n",
    "print('STD: ' + str(std))\n",
    "print('CovVar: ' + str(covvar))"
   ]
  },
  {
   "cell_type": "code",
   "execution_count": 22,
   "metadata": {
    "ExecuteTime": {
     "end_time": "2021-11-15T15:57:17.791421Z",
     "start_time": "2021-11-15T15:57:17.702858Z"
    }
   },
   "outputs": [
    {
     "data": {
      "text/html": [
       "<style  type=\"text/css\" >\n",
       "</style><table id=\"T_b56bb730_462c_11ec_b7a4_acde48001122\" ><thead>    <tr>        <th class=\"blank level0\" ></th>        <th class=\"col_heading level0 col0\" >Loss</th>    </tr>    <tr>        <th class=\"index_name level0\" >Probability</th>        <th class=\"blank\" ></th>    </tr></thead><tbody>\n",
       "                <tr>\n",
       "                        <th id=\"T_b56bb730_462c_11ec_b7a4_acde48001122level0_row0\" class=\"row_heading level0 row0\" >10000.0</th>\n",
       "                        <td id=\"T_b56bb730_462c_11ec_b7a4_acde48001122row0_col0\" class=\"data row0 col0\" >8,629,468</td>\n",
       "            </tr>\n",
       "            <tr>\n",
       "                        <th id=\"T_b56bb730_462c_11ec_b7a4_acde48001122level0_row1\" class=\"row_heading level0 row1\" >5000.0</th>\n",
       "                        <td id=\"T_b56bb730_462c_11ec_b7a4_acde48001122row1_col0\" class=\"data row1 col0\" >7,789,031</td>\n",
       "            </tr>\n",
       "            <tr>\n",
       "                        <th id=\"T_b56bb730_462c_11ec_b7a4_acde48001122level0_row2\" class=\"row_heading level0 row2\" >1000.0</th>\n",
       "                        <td id=\"T_b56bb730_462c_11ec_b7a4_acde48001122row2_col0\" class=\"data row2 col0\" >6,377,343</td>\n",
       "            </tr>\n",
       "            <tr>\n",
       "                        <th id=\"T_b56bb730_462c_11ec_b7a4_acde48001122level0_row3\" class=\"row_heading level0 row3\" >500.0</th>\n",
       "                        <td id=\"T_b56bb730_462c_11ec_b7a4_acde48001122row3_col0\" class=\"data row3 col0\" >5,679,732</td>\n",
       "            </tr>\n",
       "            <tr>\n",
       "                        <th id=\"T_b56bb730_462c_11ec_b7a4_acde48001122level0_row4\" class=\"row_heading level0 row4\" >250.0</th>\n",
       "                        <td id=\"T_b56bb730_462c_11ec_b7a4_acde48001122row4_col0\" class=\"data row4 col0\" >4,818,567</td>\n",
       "            </tr>\n",
       "            <tr>\n",
       "                        <th id=\"T_b56bb730_462c_11ec_b7a4_acde48001122level0_row5\" class=\"row_heading level0 row5\" >200.0</th>\n",
       "                        <td id=\"T_b56bb730_462c_11ec_b7a4_acde48001122row5_col0\" class=\"data row5 col0\" >4,578,668</td>\n",
       "            </tr>\n",
       "            <tr>\n",
       "                        <th id=\"T_b56bb730_462c_11ec_b7a4_acde48001122level0_row6\" class=\"row_heading level0 row6\" >100.0</th>\n",
       "                        <td id=\"T_b56bb730_462c_11ec_b7a4_acde48001122row6_col0\" class=\"data row6 col0\" >3,961,618</td>\n",
       "            </tr>\n",
       "            <tr>\n",
       "                        <th id=\"T_b56bb730_462c_11ec_b7a4_acde48001122level0_row7\" class=\"row_heading level0 row7\" >50.0</th>\n",
       "                        <td id=\"T_b56bb730_462c_11ec_b7a4_acde48001122row7_col0\" class=\"data row7 col0\" >3,390,390</td>\n",
       "            </tr>\n",
       "            <tr>\n",
       "                        <th id=\"T_b56bb730_462c_11ec_b7a4_acde48001122level0_row8\" class=\"row_heading level0 row8\" >25.0</th>\n",
       "                        <td id=\"T_b56bb730_462c_11ec_b7a4_acde48001122row8_col0\" class=\"data row8 col0\" >2,788,478</td>\n",
       "            </tr>\n",
       "            <tr>\n",
       "                        <th id=\"T_b56bb730_462c_11ec_b7a4_acde48001122level0_row9\" class=\"row_heading level0 row9\" >10.0</th>\n",
       "                        <td id=\"T_b56bb730_462c_11ec_b7a4_acde48001122row9_col0\" class=\"data row9 col0\" >1,307,448</td>\n",
       "            </tr>\n",
       "            <tr>\n",
       "                        <th id=\"T_b56bb730_462c_11ec_b7a4_acde48001122level0_row10\" class=\"row_heading level0 row10\" >5.0</th>\n",
       "                        <td id=\"T_b56bb730_462c_11ec_b7a4_acde48001122row10_col0\" class=\"data row10 col0\" >151,358</td>\n",
       "            </tr>\n",
       "            <tr>\n",
       "                        <th id=\"T_b56bb730_462c_11ec_b7a4_acde48001122level0_row11\" class=\"row_heading level0 row11\" >2.0</th>\n",
       "                        <td id=\"T_b56bb730_462c_11ec_b7a4_acde48001122row11_col0\" class=\"data row11 col0\" >0</td>\n",
       "            </tr>\n",
       "    </tbody></table>"
      ],
      "text/plain": [
       "<pandas.io.formats.style.Styler at 0x7fddc934ffd0>"
      ]
     },
     "execution_count": 22,
     "metadata": {},
     "output_type": "execute_result"
    }
   ],
   "source": [
    "# Calculate AEP metrics from PLT\n",
    "aep = plt_calculator.calculate_aep_curve(grouped_plt.plt, grouped_plt.simulations)\n",
    "aep_metrics = aep.curve['Loss'][aep.curve['Loss'].index.isin([1/x for x in aep.RETURN_PERIODS])]\n",
    "aep_metrics.index = np.reciprocal(aep_metrics.index)\n",
    "aep_metrics = aep_metrics.sort_index(axis=0, ascending=False)\n",
    "\n",
    "# Return AEP results\n",
    "aep_metrics.to_frame().style.format(\"{:,.0f}\")"
   ]
  },
  {
   "cell_type": "code",
   "execution_count": 23,
   "metadata": {
    "ExecuteTime": {
     "end_time": "2021-11-15T15:57:32.093167Z",
     "start_time": "2021-11-15T15:57:27.679809Z"
    }
   },
   "outputs": [
    {
     "data": {
      "text/html": [
       "<style  type=\"text/css\" >\n",
       "</style><table id=\"T_bdf1fc84_462c_11ec_b7a4_acde48001122\" ><thead>    <tr>        <th class=\"blank level0\" ></th>        <th class=\"col_heading level0 col0\" >Loss</th>    </tr>    <tr>        <th class=\"index_name level0\" >Probability</th>        <th class=\"blank\" ></th>    </tr></thead><tbody>\n",
       "                <tr>\n",
       "                        <th id=\"T_bdf1fc84_462c_11ec_b7a4_acde48001122level0_row0\" class=\"row_heading level0 row0\" >10000.0</th>\n",
       "                        <td id=\"T_bdf1fc84_462c_11ec_b7a4_acde48001122row0_col0\" class=\"data row0 col0\" >4,693,108</td>\n",
       "            </tr>\n",
       "            <tr>\n",
       "                        <th id=\"T_bdf1fc84_462c_11ec_b7a4_acde48001122level0_row1\" class=\"row_heading level0 row1\" >5000.0</th>\n",
       "                        <td id=\"T_bdf1fc84_462c_11ec_b7a4_acde48001122row1_col0\" class=\"data row1 col0\" >4,622,154</td>\n",
       "            </tr>\n",
       "            <tr>\n",
       "                        <th id=\"T_bdf1fc84_462c_11ec_b7a4_acde48001122level0_row2\" class=\"row_heading level0 row2\" >1000.0</th>\n",
       "                        <td id=\"T_bdf1fc84_462c_11ec_b7a4_acde48001122row2_col0\" class=\"data row2 col0\" >4,302,221</td>\n",
       "            </tr>\n",
       "            <tr>\n",
       "                        <th id=\"T_bdf1fc84_462c_11ec_b7a4_acde48001122level0_row3\" class=\"row_heading level0 row3\" >500.0</th>\n",
       "                        <td id=\"T_bdf1fc84_462c_11ec_b7a4_acde48001122row3_col0\" class=\"data row3 col0\" >4,166,935</td>\n",
       "            </tr>\n",
       "            <tr>\n",
       "                        <th id=\"T_bdf1fc84_462c_11ec_b7a4_acde48001122level0_row4\" class=\"row_heading level0 row4\" >250.0</th>\n",
       "                        <td id=\"T_bdf1fc84_462c_11ec_b7a4_acde48001122row4_col0\" class=\"data row4 col0\" >3,961,226</td>\n",
       "            </tr>\n",
       "            <tr>\n",
       "                        <th id=\"T_bdf1fc84_462c_11ec_b7a4_acde48001122level0_row5\" class=\"row_heading level0 row5\" >200.0</th>\n",
       "                        <td id=\"T_bdf1fc84_462c_11ec_b7a4_acde48001122row5_col0\" class=\"data row5 col0\" >3,854,899</td>\n",
       "            </tr>\n",
       "            <tr>\n",
       "                        <th id=\"T_bdf1fc84_462c_11ec_b7a4_acde48001122level0_row6\" class=\"row_heading level0 row6\" >100.0</th>\n",
       "                        <td id=\"T_bdf1fc84_462c_11ec_b7a4_acde48001122row6_col0\" class=\"data row6 col0\" >3,549,359</td>\n",
       "            </tr>\n",
       "            <tr>\n",
       "                        <th id=\"T_bdf1fc84_462c_11ec_b7a4_acde48001122level0_row7\" class=\"row_heading level0 row7\" >50.0</th>\n",
       "                        <td id=\"T_bdf1fc84_462c_11ec_b7a4_acde48001122row7_col0\" class=\"data row7 col0\" >3,120,818</td>\n",
       "            </tr>\n",
       "            <tr>\n",
       "                        <th id=\"T_bdf1fc84_462c_11ec_b7a4_acde48001122level0_row8\" class=\"row_heading level0 row8\" >25.0</th>\n",
       "                        <td id=\"T_bdf1fc84_462c_11ec_b7a4_acde48001122row8_col0\" class=\"data row8 col0\" >2,660,592</td>\n",
       "            </tr>\n",
       "            <tr>\n",
       "                        <th id=\"T_bdf1fc84_462c_11ec_b7a4_acde48001122level0_row9\" class=\"row_heading level0 row9\" >10.0</th>\n",
       "                        <td id=\"T_bdf1fc84_462c_11ec_b7a4_acde48001122row9_col0\" class=\"data row9 col0\" >1,172,250</td>\n",
       "            </tr>\n",
       "            <tr>\n",
       "                        <th id=\"T_bdf1fc84_462c_11ec_b7a4_acde48001122level0_row10\" class=\"row_heading level0 row10\" >5.0</th>\n",
       "                        <td id=\"T_bdf1fc84_462c_11ec_b7a4_acde48001122row10_col0\" class=\"data row10 col0\" >145,079</td>\n",
       "            </tr>\n",
       "            <tr>\n",
       "                        <th id=\"T_bdf1fc84_462c_11ec_b7a4_acde48001122level0_row11\" class=\"row_heading level0 row11\" >2.0</th>\n",
       "                        <td id=\"T_bdf1fc84_462c_11ec_b7a4_acde48001122row11_col0\" class=\"data row11 col0\" >0</td>\n",
       "            </tr>\n",
       "    </tbody></table>"
      ],
      "text/plain": [
       "<pandas.io.formats.style.Styler at 0x7fddc91f3970>"
      ]
     },
     "execution_count": 23,
     "metadata": {},
     "output_type": "execute_result"
    }
   ],
   "source": [
    "# Calculate OEP metrics from PLT\n",
    "oep = plt_calculator.calculate_oep_curve(grouped_plt.plt, grouped_plt.simulations)\n",
    "oep_metrics = oep.curve['Loss'][oep.curve['Loss'].index.isin([1/x for x in oep.RETURN_PERIODS])]\n",
    "oep_metrics.index = np.reciprocal(oep_metrics.index)\n",
    "oep_metrics = oep_metrics.sort_index(axis=0, ascending=False)\n",
    "\n",
    "# Return OEP results\n",
    "oep_metrics.to_frame().style.format(\"{:,.0f}\")"
   ]
  }
 ],
 "metadata": {
  "kernelspec": {
   "display_name": "Python 3",
   "language": "python",
   "name": "python3"
  },
  "language_info": {
   "codemirror_mode": {
    "name": "ipython",
    "version": 3
   },
   "file_extension": ".py",
   "mimetype": "text/x-python",
   "name": "python",
   "nbconvert_exporter": "python",
   "pygments_lexer": "ipython3",
   "version": "3.8.5"
  },
  "varInspector": {
   "cols": {
    "lenName": 16,
    "lenType": 16,
    "lenVar": 40
   },
   "kernels_config": {
    "python": {
     "delete_cmd_postfix": "",
     "delete_cmd_prefix": "del ",
     "library": "var_list.py",
     "varRefreshCmd": "print(var_dic_list())"
    },
    "r": {
     "delete_cmd_postfix": ") ",
     "delete_cmd_prefix": "rm(",
     "library": "var_list.r",
     "varRefreshCmd": "cat(var_dic_list()) "
    }
   },
   "types_to_exclude": [
    "module",
    "function",
    "builtin_function_or_method",
    "instance",
    "_Feature"
   ],
   "window_display": false
  }
 },
 "nbformat": 4,
 "nbformat_minor": 4
}
