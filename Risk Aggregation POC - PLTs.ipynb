{
 "cells": [
  {
   "cell_type": "markdown",
   "metadata": {},
   "source": [
    "# Risk Aggregation POC - PLTs\n",
    "\n",
    "This notebook reads can be used to read in multiple PLTs, rollup the PLTs to an aggregate PLT, and generate statistics and EP metrics from the PLTs.\n",
    "\n",
    "-----"
   ]
  },
  {
   "cell_type": "markdown",
   "metadata": {},
   "source": [
    "### Install necessary libraries"
   ]
  },
  {
   "cell_type": "code",
   "execution_count": 1,
   "metadata": {
    "ExecuteTime": {
     "end_time": "2021-11-30T21:01:32.313381Z",
     "start_time": "2021-11-30T21:01:32.310617Z"
    }
   },
   "outputs": [],
   "source": [
    "# %pip install pandas\n",
    "# %pip install numpy\n",
    "# %pip install pyarrow\n",
    "# %pip install fastparquet\n",
    "\n",
    "\n",
    "# Install to connect to AWS S3\n",
    "# %pip install boto3\n",
    "# %pip install botocore==1.22.5\n",
    "# %pip install s3fs\n",
    "# %pip install fsspec"
   ]
  },
  {
   "cell_type": "markdown",
   "metadata": {},
   "source": [
    "### Import necessary libraries"
   ]
  },
  {
   "cell_type": "code",
   "execution_count": 2,
   "metadata": {
    "ExecuteTime": {
     "end_time": "2021-11-30T21:01:32.820612Z",
     "start_time": "2021-11-30T21:01:32.315356Z"
    }
   },
   "outputs": [],
   "source": [
    "import os\n",
    "import sys\n",
    "import pandas as pd\n",
    "import numpy as np\n",
    "import aggregationtools.plt\n",
    "import aggregationtools\n",
    "from aggregationtools.plt import PLT\n",
    "from aggregationtools import plt_calculator\n",
    "import glob"
   ]
  },
  {
   "cell_type": "markdown",
   "metadata": {},
   "source": [
    "### Import data from AWS S3\n",
    "AWS credentials may be provided explicitly with s3fs.S3FileSystem,\n",
    "but it is more secure to exclude the credentials from the code.\n",
    "Instead use the AWS CLI to `aws configure` credentials."
   ]
  },
  {
   "cell_type": "code",
   "execution_count": 3,
   "metadata": {
    "ExecuteTime": {
     "end_time": "2021-11-30T21:01:32.825702Z",
     "start_time": "2021-11-30T21:01:32.823508Z"
    }
   },
   "outputs": [],
   "source": [
    "# import s3fs\n",
    "\n",
    "# s3 = s3fs.S3FileSystem(anon=False)\n",
    "# files = s3.glob('s3://fannie-mae-phase-3/03 Data Aggregation POC/01 Test/test_4/split/*.parquet')\n",
    "# plts = pd.concat([pd.read_parquet('s3://' + fp) for fp in files])"
   ]
  },
  {
   "cell_type": "markdown",
   "metadata": {},
   "source": [
    "### Import local data\n",
    "Replace SCENARIO_FOLDER with scenario you'd like to run."
   ]
  },
  {
   "cell_type": "code",
   "execution_count": 4,
   "metadata": {
    "ExecuteTime": {
     "end_time": "2021-11-30T21:02:06.467034Z",
     "start_time": "2021-11-30T21:01:32.828469Z"
    }
   },
   "outputs": [],
   "source": [
    "path = os.path.join('AggregationPOCScenarios', 'FLOOD_NEW_YORK', '')\n",
    "files = glob.glob(path + '*.parquet')\n",
    "plts = pd.concat([pd.read_parquet(fp) for fp in files])"
   ]
  },
  {
   "cell_type": "markdown",
   "metadata": {},
   "source": [
    "### Create PLT from imported data\n",
    "number_of_simulations to include number of period simulations and number of samples"
   ]
  },
  {
   "cell_type": "code",
   "execution_count": 5,
   "metadata": {
    "ExecuteTime": {
     "end_time": "2021-11-30T21:03:12.413743Z",
     "start_time": "2021-11-30T21:02:06.469443Z"
    },
    "scrolled": true
   },
   "outputs": [
    {
     "data": {
      "text/html": [
       "<style  type=\"text/css\" >\n",
       "</style><table id=\"T_edd25a2a_5220_11ec_abd0_acde48001122\" ><thead>    <tr>        <th class=\"blank level0\" ></th>        <th class=\"col_heading level0 col0\" >AccgrpId</th>        <th class=\"col_heading level0 col1\" >LocName</th>        <th class=\"col_heading level0 col2\" >Lob</th>        <th class=\"col_heading level0 col3\" >LobId</th>        <th class=\"col_heading level0 col4\" >CedantId</th>        <th class=\"col_heading level0 col5\" >LossType</th>        <th class=\"col_heading level0 col6\" >PeriodId</th>        <th class=\"col_heading level0 col7\" >Weight</th>        <th class=\"col_heading level0 col8\" >EventId</th>        <th class=\"col_heading level0 col9\" >EventDate</th>        <th class=\"col_heading level0 col10\" >LossDate</th>        <th class=\"col_heading level0 col11\" >Loss</th>    </tr></thead><tbody>\n",
       "                <tr>\n",
       "                        <th id=\"T_edd25a2a_5220_11ec_abd0_acde48001122level0_row0\" class=\"row_heading level0 row0\" >0</th>\n",
       "                        <td id=\"T_edd25a2a_5220_11ec_abd0_acde48001122row0_col0\" class=\"data row0 col0\" >1520</td>\n",
       "                        <td id=\"T_edd25a2a_5220_11ec_abd0_acde48001122row0_col1\" class=\"data row0 col1\" >0024cc59c00ac7bb6dc147ec9f564685e04</td>\n",
       "                        <td id=\"T_edd25a2a_5220_11ec_abd0_acde48001122row0_col2\" class=\"data row0 col2\" >ATC1</td>\n",
       "                        <td id=\"T_edd25a2a_5220_11ec_abd0_acde48001122row0_col3\" class=\"data row0 col3\" >1303</td>\n",
       "                        <td id=\"T_edd25a2a_5220_11ec_abd0_acde48001122row0_col4\" class=\"data row0 col4\" >Unknown</td>\n",
       "                        <td id=\"T_edd25a2a_5220_11ec_abd0_acde48001122row0_col5\" class=\"data row0 col5\" >All</td>\n",
       "                        <td id=\"T_edd25a2a_5220_11ec_abd0_acde48001122row0_col6\" class=\"data row0 col6\" >892</td>\n",
       "                        <td id=\"T_edd25a2a_5220_11ec_abd0_acde48001122row0_col7\" class=\"data row0 col7\" >0.000000</td>\n",
       "                        <td id=\"T_edd25a2a_5220_11ec_abd0_acde48001122row0_col8\" class=\"data row0 col8\" >2856884</td>\n",
       "                        <td id=\"T_edd25a2a_5220_11ec_abd0_acde48001122row0_col9\" class=\"data row0 col9\" >2020-08-15 00:00:00</td>\n",
       "                        <td id=\"T_edd25a2a_5220_11ec_abd0_acde48001122row0_col10\" class=\"data row0 col10\" >2020-08-15 00:00:00</td>\n",
       "                        <td id=\"T_edd25a2a_5220_11ec_abd0_acde48001122row0_col11\" class=\"data row0 col11\" >91.970487</td>\n",
       "            </tr>\n",
       "            <tr>\n",
       "                        <th id=\"T_edd25a2a_5220_11ec_abd0_acde48001122level0_row1\" class=\"row_heading level0 row1\" >1</th>\n",
       "                        <td id=\"T_edd25a2a_5220_11ec_abd0_acde48001122row1_col0\" class=\"data row1 col0\" >1520</td>\n",
       "                        <td id=\"T_edd25a2a_5220_11ec_abd0_acde48001122row1_col1\" class=\"data row1 col1\" >0024cc59c00ac7bb6dc147ec9f564685e04</td>\n",
       "                        <td id=\"T_edd25a2a_5220_11ec_abd0_acde48001122row1_col2\" class=\"data row1 col2\" >ATC1</td>\n",
       "                        <td id=\"T_edd25a2a_5220_11ec_abd0_acde48001122row1_col3\" class=\"data row1 col3\" >1303</td>\n",
       "                        <td id=\"T_edd25a2a_5220_11ec_abd0_acde48001122row1_col4\" class=\"data row1 col4\" >Unknown</td>\n",
       "                        <td id=\"T_edd25a2a_5220_11ec_abd0_acde48001122row1_col5\" class=\"data row1 col5\" >All</td>\n",
       "                        <td id=\"T_edd25a2a_5220_11ec_abd0_acde48001122row1_col6\" class=\"data row1 col6\" >7652</td>\n",
       "                        <td id=\"T_edd25a2a_5220_11ec_abd0_acde48001122row1_col7\" class=\"data row1 col7\" >0.000000</td>\n",
       "                        <td id=\"T_edd25a2a_5220_11ec_abd0_acde48001122row1_col8\" class=\"data row1 col8\" >2856884</td>\n",
       "                        <td id=\"T_edd25a2a_5220_11ec_abd0_acde48001122row1_col9\" class=\"data row1 col9\" >2020-08-24 00:00:00</td>\n",
       "                        <td id=\"T_edd25a2a_5220_11ec_abd0_acde48001122row1_col10\" class=\"data row1 col10\" >2020-08-24 00:00:00</td>\n",
       "                        <td id=\"T_edd25a2a_5220_11ec_abd0_acde48001122row1_col11\" class=\"data row1 col11\" >8.676204</td>\n",
       "            </tr>\n",
       "            <tr>\n",
       "                        <th id=\"T_edd25a2a_5220_11ec_abd0_acde48001122level0_row2\" class=\"row_heading level0 row2\" >2</th>\n",
       "                        <td id=\"T_edd25a2a_5220_11ec_abd0_acde48001122row2_col0\" class=\"data row2 col0\" >1520</td>\n",
       "                        <td id=\"T_edd25a2a_5220_11ec_abd0_acde48001122row2_col1\" class=\"data row2 col1\" >0024cc59c00ac7bb6dc147ec9f564685e04</td>\n",
       "                        <td id=\"T_edd25a2a_5220_11ec_abd0_acde48001122row2_col2\" class=\"data row2 col2\" >ATC1</td>\n",
       "                        <td id=\"T_edd25a2a_5220_11ec_abd0_acde48001122row2_col3\" class=\"data row2 col3\" >1303</td>\n",
       "                        <td id=\"T_edd25a2a_5220_11ec_abd0_acde48001122row2_col4\" class=\"data row2 col4\" >Unknown</td>\n",
       "                        <td id=\"T_edd25a2a_5220_11ec_abd0_acde48001122row2_col5\" class=\"data row2 col5\" >All</td>\n",
       "                        <td id=\"T_edd25a2a_5220_11ec_abd0_acde48001122row2_col6\" class=\"data row2 col6\" >29267</td>\n",
       "                        <td id=\"T_edd25a2a_5220_11ec_abd0_acde48001122row2_col7\" class=\"data row2 col7\" >0.000000</td>\n",
       "                        <td id=\"T_edd25a2a_5220_11ec_abd0_acde48001122row2_col8\" class=\"data row2 col8\" >2856884</td>\n",
       "                        <td id=\"T_edd25a2a_5220_11ec_abd0_acde48001122row2_col9\" class=\"data row2 col9\" >2020-08-15 00:00:00</td>\n",
       "                        <td id=\"T_edd25a2a_5220_11ec_abd0_acde48001122row2_col10\" class=\"data row2 col10\" >2020-08-15 00:00:00</td>\n",
       "                        <td id=\"T_edd25a2a_5220_11ec_abd0_acde48001122row2_col11\" class=\"data row2 col11\" >37.901831</td>\n",
       "            </tr>\n",
       "            <tr>\n",
       "                        <th id=\"T_edd25a2a_5220_11ec_abd0_acde48001122level0_row3\" class=\"row_heading level0 row3\" >3</th>\n",
       "                        <td id=\"T_edd25a2a_5220_11ec_abd0_acde48001122row3_col0\" class=\"data row3 col0\" >1520</td>\n",
       "                        <td id=\"T_edd25a2a_5220_11ec_abd0_acde48001122row3_col1\" class=\"data row3 col1\" >0024cc59c00ac7bb6dc147ec9f564685e04</td>\n",
       "                        <td id=\"T_edd25a2a_5220_11ec_abd0_acde48001122row3_col2\" class=\"data row3 col2\" >ATC1</td>\n",
       "                        <td id=\"T_edd25a2a_5220_11ec_abd0_acde48001122row3_col3\" class=\"data row3 col3\" >1303</td>\n",
       "                        <td id=\"T_edd25a2a_5220_11ec_abd0_acde48001122row3_col4\" class=\"data row3 col4\" >Unknown</td>\n",
       "                        <td id=\"T_edd25a2a_5220_11ec_abd0_acde48001122row3_col5\" class=\"data row3 col5\" >All</td>\n",
       "                        <td id=\"T_edd25a2a_5220_11ec_abd0_acde48001122row3_col6\" class=\"data row3 col6\" >34795</td>\n",
       "                        <td id=\"T_edd25a2a_5220_11ec_abd0_acde48001122row3_col7\" class=\"data row3 col7\" >0.000000</td>\n",
       "                        <td id=\"T_edd25a2a_5220_11ec_abd0_acde48001122row3_col8\" class=\"data row3 col8\" >2872425</td>\n",
       "                        <td id=\"T_edd25a2a_5220_11ec_abd0_acde48001122row3_col9\" class=\"data row3 col9\" >2020-09-30 00:00:00</td>\n",
       "                        <td id=\"T_edd25a2a_5220_11ec_abd0_acde48001122row3_col10\" class=\"data row3 col10\" >2020-09-30 00:00:00</td>\n",
       "                        <td id=\"T_edd25a2a_5220_11ec_abd0_acde48001122row3_col11\" class=\"data row3 col11\" >293.797882</td>\n",
       "            </tr>\n",
       "            <tr>\n",
       "                        <th id=\"T_edd25a2a_5220_11ec_abd0_acde48001122level0_row4\" class=\"row_heading level0 row4\" >4</th>\n",
       "                        <td id=\"T_edd25a2a_5220_11ec_abd0_acde48001122row4_col0\" class=\"data row4 col0\" >1520</td>\n",
       "                        <td id=\"T_edd25a2a_5220_11ec_abd0_acde48001122row4_col1\" class=\"data row4 col1\" >0024cc59c00ac7bb6dc147ec9f564685e04</td>\n",
       "                        <td id=\"T_edd25a2a_5220_11ec_abd0_acde48001122row4_col2\" class=\"data row4 col2\" >ATC1</td>\n",
       "                        <td id=\"T_edd25a2a_5220_11ec_abd0_acde48001122row4_col3\" class=\"data row4 col3\" >1303</td>\n",
       "                        <td id=\"T_edd25a2a_5220_11ec_abd0_acde48001122row4_col4\" class=\"data row4 col4\" >Unknown</td>\n",
       "                        <td id=\"T_edd25a2a_5220_11ec_abd0_acde48001122row4_col5\" class=\"data row4 col5\" >All</td>\n",
       "                        <td id=\"T_edd25a2a_5220_11ec_abd0_acde48001122row4_col6\" class=\"data row4 col6\" >49586</td>\n",
       "                        <td id=\"T_edd25a2a_5220_11ec_abd0_acde48001122row4_col7\" class=\"data row4 col7\" >0.000000</td>\n",
       "                        <td id=\"T_edd25a2a_5220_11ec_abd0_acde48001122row4_col8\" class=\"data row4 col8\" >2862393</td>\n",
       "                        <td id=\"T_edd25a2a_5220_11ec_abd0_acde48001122row4_col9\" class=\"data row4 col9\" >2020-09-28 00:00:00</td>\n",
       "                        <td id=\"T_edd25a2a_5220_11ec_abd0_acde48001122row4_col10\" class=\"data row4 col10\" >2020-09-28 00:00:00</td>\n",
       "                        <td id=\"T_edd25a2a_5220_11ec_abd0_acde48001122row4_col11\" class=\"data row4 col11\" >4.523303</td>\n",
       "            </tr>\n",
       "    </tbody></table>"
      ],
      "text/plain": [
       "<pandas.io.formats.style.Styler at 0x7f8f46fa2f70>"
      ]
     },
     "execution_count": 5,
     "metadata": {},
     "output_type": "execute_result"
    }
   ],
   "source": [
    "json_test = plts.to_dict(orient='records')\n",
    "original_plt = aggregationtools.plt.PLT(data = json_test, number_of_simulations = 800000*7)\n",
    "original_plt.plt.head(5).style"
   ]
  },
  {
   "cell_type": "markdown",
   "metadata": {},
   "source": [
    "See that number of sumulations has been set for the PLT:"
   ]
  },
  {
   "cell_type": "code",
   "execution_count": 6,
   "metadata": {
    "ExecuteTime": {
     "end_time": "2021-11-30T21:03:12.423108Z",
     "start_time": "2021-11-30T21:03:12.415816Z"
    }
   },
   "outputs": [
    {
     "data": {
      "text/plain": [
       "5600000"
      ]
     },
     "execution_count": 6,
     "metadata": {},
     "output_type": "execute_result"
    }
   ],
   "source": [
    "original_plt.simulations"
   ]
  },
  {
   "cell_type": "markdown",
   "metadata": {},
   "source": [
    "### Group account PLTs"
   ]
  },
  {
   "cell_type": "code",
   "execution_count": 7,
   "metadata": {
    "ExecuteTime": {
     "end_time": "2021-11-30T21:03:19.474635Z",
     "start_time": "2021-11-30T21:03:12.439203Z"
    }
   },
   "outputs": [
    {
     "data": {
      "text/html": [
       "<style  type=\"text/css\" >\n",
       "</style><table id=\"T_f208167a_5220_11ec_abd0_acde48001122\" ><thead>    <tr>        <th class=\"blank level0\" ></th>        <th class=\"col_heading level0 col0\" >PeriodId</th>        <th class=\"col_heading level0 col1\" >EventId</th>        <th class=\"col_heading level0 col2\" >EventDate</th>        <th class=\"col_heading level0 col3\" >Weight</th>        <th class=\"col_heading level0 col4\" >Loss</th>    </tr></thead><tbody>\n",
       "                <tr>\n",
       "                        <th id=\"T_f208167a_5220_11ec_abd0_acde48001122level0_row0\" class=\"row_heading level0 row0\" >0</th>\n",
       "                        <td id=\"T_f208167a_5220_11ec_abd0_acde48001122row0_col0\" class=\"data row0 col0\" >1</td>\n",
       "                        <td id=\"T_f208167a_5220_11ec_abd0_acde48001122row0_col1\" class=\"data row0 col1\" >9350002</td>\n",
       "                        <td id=\"T_f208167a_5220_11ec_abd0_acde48001122row0_col2\" class=\"data row0 col2\" >2020-04-02 00:00:00</td>\n",
       "                        <td id=\"T_f208167a_5220_11ec_abd0_acde48001122row0_col3\" class=\"data row0 col3\" >0.000000</td>\n",
       "                        <td id=\"T_f208167a_5220_11ec_abd0_acde48001122row0_col4\" class=\"data row0 col4\" >28.554314</td>\n",
       "            </tr>\n",
       "            <tr>\n",
       "                        <th id=\"T_f208167a_5220_11ec_abd0_acde48001122level0_row1\" class=\"row_heading level0 row1\" >1</th>\n",
       "                        <td id=\"T_f208167a_5220_11ec_abd0_acde48001122row1_col0\" class=\"data row1 col0\" >5</td>\n",
       "                        <td id=\"T_f208167a_5220_11ec_abd0_acde48001122row1_col1\" class=\"data row1 col1\" >9350117</td>\n",
       "                        <td id=\"T_f208167a_5220_11ec_abd0_acde48001122row1_col2\" class=\"data row1 col2\" >2020-09-14 00:00:00</td>\n",
       "                        <td id=\"T_f208167a_5220_11ec_abd0_acde48001122row1_col3\" class=\"data row1 col3\" >0.000000</td>\n",
       "                        <td id=\"T_f208167a_5220_11ec_abd0_acde48001122row1_col4\" class=\"data row1 col4\" >86582.347290</td>\n",
       "            </tr>\n",
       "            <tr>\n",
       "                        <th id=\"T_f208167a_5220_11ec_abd0_acde48001122level0_row2\" class=\"row_heading level0 row2\" >2</th>\n",
       "                        <td id=\"T_f208167a_5220_11ec_abd0_acde48001122row2_col0\" class=\"data row2 col0\" >8</td>\n",
       "                        <td id=\"T_f208167a_5220_11ec_abd0_acde48001122row2_col1\" class=\"data row2 col1\" >2871193</td>\n",
       "                        <td id=\"T_f208167a_5220_11ec_abd0_acde48001122row2_col2\" class=\"data row2 col2\" >2020-07-21 00:00:00</td>\n",
       "                        <td id=\"T_f208167a_5220_11ec_abd0_acde48001122row2_col3\" class=\"data row2 col3\" >0.000000</td>\n",
       "                        <td id=\"T_f208167a_5220_11ec_abd0_acde48001122row2_col4\" class=\"data row2 col4\" >330429.864529</td>\n",
       "            </tr>\n",
       "            <tr>\n",
       "                        <th id=\"T_f208167a_5220_11ec_abd0_acde48001122level0_row3\" class=\"row_heading level0 row3\" >3</th>\n",
       "                        <td id=\"T_f208167a_5220_11ec_abd0_acde48001122row3_col0\" class=\"data row3 col0\" >11</td>\n",
       "                        <td id=\"T_f208167a_5220_11ec_abd0_acde48001122row3_col1\" class=\"data row3 col1\" >10480776</td>\n",
       "                        <td id=\"T_f208167a_5220_11ec_abd0_acde48001122row3_col2\" class=\"data row3 col2\" >2020-02-27 00:00:00</td>\n",
       "                        <td id=\"T_f208167a_5220_11ec_abd0_acde48001122row3_col3\" class=\"data row3 col3\" >0.000000</td>\n",
       "                        <td id=\"T_f208167a_5220_11ec_abd0_acde48001122row3_col4\" class=\"data row3 col4\" >27008.981184</td>\n",
       "            </tr>\n",
       "            <tr>\n",
       "                        <th id=\"T_f208167a_5220_11ec_abd0_acde48001122level0_row4\" class=\"row_heading level0 row4\" >4</th>\n",
       "                        <td id=\"T_f208167a_5220_11ec_abd0_acde48001122row4_col0\" class=\"data row4 col0\" >16</td>\n",
       "                        <td id=\"T_f208167a_5220_11ec_abd0_acde48001122row4_col1\" class=\"data row4 col1\" >2861444</td>\n",
       "                        <td id=\"T_f208167a_5220_11ec_abd0_acde48001122row4_col2\" class=\"data row4 col2\" >2020-09-19 00:00:00</td>\n",
       "                        <td id=\"T_f208167a_5220_11ec_abd0_acde48001122row4_col3\" class=\"data row4 col3\" >0.000000</td>\n",
       "                        <td id=\"T_f208167a_5220_11ec_abd0_acde48001122row4_col4\" class=\"data row4 col4\" >678.495681</td>\n",
       "            </tr>\n",
       "    </tbody></table>"
      ],
      "text/plain": [
       "<pandas.io.formats.style.Styler at 0x7f8f4824ddc0>"
      ]
     },
     "execution_count": 7,
     "metadata": {},
     "output_type": "execute_result"
    }
   ],
   "source": [
    "grouped_plt = plt_calculator.group_plts(original_plt)\n",
    "grouped_plt.plt.head(5).style"
   ]
  },
  {
   "cell_type": "markdown",
   "metadata": {},
   "source": [
    "### Rollup PLT"
   ]
  },
  {
   "cell_type": "code",
   "execution_count": 8,
   "metadata": {
    "ExecuteTime": {
     "end_time": "2021-11-30T21:03:24.145059Z",
     "start_time": "2021-11-30T21:03:19.477838Z"
    }
   },
   "outputs": [
    {
     "data": {
      "text/html": [
       "<div>\n",
       "<style scoped>\n",
       "    .dataframe tbody tr th:only-of-type {\n",
       "        vertical-align: middle;\n",
       "    }\n",
       "\n",
       "    .dataframe tbody tr th {\n",
       "        vertical-align: top;\n",
       "    }\n",
       "\n",
       "    .dataframe thead th {\n",
       "        text-align: right;\n",
       "    }\n",
       "</style>\n",
       "<table border=\"1\" class=\"dataframe\">\n",
       "  <thead>\n",
       "    <tr style=\"text-align: right;\">\n",
       "      <th></th>\n",
       "      <th>PeriodId</th>\n",
       "      <th>Weight</th>\n",
       "      <th>Loss</th>\n",
       "    </tr>\n",
       "  </thead>\n",
       "  <tbody>\n",
       "    <tr>\n",
       "      <th>0</th>\n",
       "      <td>1</td>\n",
       "      <td>1.785714e-07</td>\n",
       "      <td>28.554314</td>\n",
       "    </tr>\n",
       "    <tr>\n",
       "      <th>1</th>\n",
       "      <td>5</td>\n",
       "      <td>1.785714e-07</td>\n",
       "      <td>86582.347290</td>\n",
       "    </tr>\n",
       "    <tr>\n",
       "      <th>2</th>\n",
       "      <td>8</td>\n",
       "      <td>1.785714e-07</td>\n",
       "      <td>330429.864529</td>\n",
       "    </tr>\n",
       "    <tr>\n",
       "      <th>3</th>\n",
       "      <td>11</td>\n",
       "      <td>1.785714e-07</td>\n",
       "      <td>27008.981184</td>\n",
       "    </tr>\n",
       "    <tr>\n",
       "      <th>4</th>\n",
       "      <td>16</td>\n",
       "      <td>1.785714e-07</td>\n",
       "      <td>678.495681</td>\n",
       "    </tr>\n",
       "  </tbody>\n",
       "</table>\n",
       "</div>"
      ],
      "text/plain": [
       "  PeriodId        Weight           Loss\n",
       "0        1  1.785714e-07      28.554314\n",
       "1        5  1.785714e-07   86582.347290\n",
       "2        8  1.785714e-07  330429.864529\n",
       "3       11  1.785714e-07   27008.981184\n",
       "4       16  1.785714e-07     678.495681"
      ]
     },
     "execution_count": 8,
     "metadata": {},
     "output_type": "execute_result"
    }
   ],
   "source": [
    "rolled_up_plt = plt_calculator.roll_up_plts(original_plt)\n",
    "rolled_up_plt.plt.head(5)"
   ]
  },
  {
   "cell_type": "markdown",
   "metadata": {},
   "source": [
    "### Calculate statistics from rolled up PLT"
   ]
  },
  {
   "cell_type": "code",
   "execution_count": 9,
   "metadata": {
    "ExecuteTime": {
     "end_time": "2021-11-30T21:03:30.008782Z",
     "start_time": "2021-11-30T21:03:24.147039Z"
    }
   },
   "outputs": [
    {
     "name": "stdout",
     "output_type": "stream",
     "text": [
      "AAL: 23697.326601278914\n",
      "STD: 106996.69164219059\n",
      "CovVar: 4.515137654237173\n"
     ]
    }
   ],
   "source": [
    "aal = rolled_up_plt.get_aal()\n",
    "std = rolled_up_plt.get_standard_deviation()\n",
    "covvar = rolled_up_plt.get_covvar()\n",
    "print('AAL: ' + aal.astype(str))\n",
    "print('STD: ' + str(std))\n",
    "print('CovVar: ' + str(covvar))"
   ]
  },
  {
   "cell_type": "markdown",
   "metadata": {},
   "source": [
    "### Calculate AEP metrics from PLT"
   ]
  },
  {
   "cell_type": "code",
   "execution_count": 10,
   "metadata": {
    "ExecuteTime": {
     "end_time": "2021-11-30T21:03:40.566191Z",
     "start_time": "2021-11-30T21:03:30.010935Z"
    }
   },
   "outputs": [
    {
     "data": {
      "text/html": [
       "<style  type=\"text/css\" >\n",
       "</style><table id=\"T_fe9a9430_5220_11ec_abd0_acde48001122\" ><thead>    <tr>        <th class=\"blank level0\" ></th>        <th class=\"col_heading level0 col0\" >Loss</th>    </tr>    <tr>        <th class=\"index_name level0\" >Return Period</th>        <th class=\"blank\" ></th>    </tr></thead><tbody>\n",
       "                <tr>\n",
       "                        <th id=\"T_fe9a9430_5220_11ec_abd0_acde48001122level0_row0\" class=\"row_heading level0 row0\" >10000.0</th>\n",
       "                        <td id=\"T_fe9a9430_5220_11ec_abd0_acde48001122row0_col0\" class=\"data row0 col0\" >2,088,304</td>\n",
       "            </tr>\n",
       "            <tr>\n",
       "                        <th id=\"T_fe9a9430_5220_11ec_abd0_acde48001122level0_row1\" class=\"row_heading level0 row1\" >5000.0</th>\n",
       "                        <td id=\"T_fe9a9430_5220_11ec_abd0_acde48001122row1_col0\" class=\"data row1 col0\" >1,874,019</td>\n",
       "            </tr>\n",
       "            <tr>\n",
       "                        <th id=\"T_fe9a9430_5220_11ec_abd0_acde48001122level0_row2\" class=\"row_heading level0 row2\" >1000.0</th>\n",
       "                        <td id=\"T_fe9a9430_5220_11ec_abd0_acde48001122row2_col0\" class=\"data row2 col0\" >1,286,494</td>\n",
       "            </tr>\n",
       "            <tr>\n",
       "                        <th id=\"T_fe9a9430_5220_11ec_abd0_acde48001122level0_row3\" class=\"row_heading level0 row3\" >500.0</th>\n",
       "                        <td id=\"T_fe9a9430_5220_11ec_abd0_acde48001122row3_col0\" class=\"data row3 col0\" >1,035,294</td>\n",
       "            </tr>\n",
       "            <tr>\n",
       "                        <th id=\"T_fe9a9430_5220_11ec_abd0_acde48001122level0_row4\" class=\"row_heading level0 row4\" >250.0</th>\n",
       "                        <td id=\"T_fe9a9430_5220_11ec_abd0_acde48001122row4_col0\" class=\"data row4 col0\" >803,379</td>\n",
       "            </tr>\n",
       "            <tr>\n",
       "                        <th id=\"T_fe9a9430_5220_11ec_abd0_acde48001122level0_row5\" class=\"row_heading level0 row5\" >200.0</th>\n",
       "                        <td id=\"T_fe9a9430_5220_11ec_abd0_acde48001122row5_col0\" class=\"data row5 col0\" >729,597</td>\n",
       "            </tr>\n",
       "            <tr>\n",
       "                        <th id=\"T_fe9a9430_5220_11ec_abd0_acde48001122level0_row6\" class=\"row_heading level0 row6\" >100.0</th>\n",
       "                        <td id=\"T_fe9a9430_5220_11ec_abd0_acde48001122row6_col0\" class=\"data row6 col0\" >541,243</td>\n",
       "            </tr>\n",
       "            <tr>\n",
       "                        <th id=\"T_fe9a9430_5220_11ec_abd0_acde48001122level0_row7\" class=\"row_heading level0 row7\" >50.0</th>\n",
       "                        <td id=\"T_fe9a9430_5220_11ec_abd0_acde48001122row7_col0\" class=\"data row7 col0\" >365,427</td>\n",
       "            </tr>\n",
       "            <tr>\n",
       "                        <th id=\"T_fe9a9430_5220_11ec_abd0_acde48001122level0_row8\" class=\"row_heading level0 row8\" >25.0</th>\n",
       "                        <td id=\"T_fe9a9430_5220_11ec_abd0_acde48001122row8_col0\" class=\"data row8 col0\" >160,455</td>\n",
       "            </tr>\n",
       "            <tr>\n",
       "                        <th id=\"T_fe9a9430_5220_11ec_abd0_acde48001122level0_row9\" class=\"row_heading level0 row9\" >10.0</th>\n",
       "                        <td id=\"T_fe9a9430_5220_11ec_abd0_acde48001122row9_col0\" class=\"data row9 col0\" >29,476</td>\n",
       "            </tr>\n",
       "            <tr>\n",
       "                        <th id=\"T_fe9a9430_5220_11ec_abd0_acde48001122level0_row10\" class=\"row_heading level0 row10\" >5.0</th>\n",
       "                        <td id=\"T_fe9a9430_5220_11ec_abd0_acde48001122row10_col0\" class=\"data row10 col0\" >2,375</td>\n",
       "            </tr>\n",
       "            <tr>\n",
       "                        <th id=\"T_fe9a9430_5220_11ec_abd0_acde48001122level0_row11\" class=\"row_heading level0 row11\" >2.0</th>\n",
       "                        <td id=\"T_fe9a9430_5220_11ec_abd0_acde48001122row11_col0\" class=\"data row11 col0\" >0</td>\n",
       "            </tr>\n",
       "    </tbody></table>"
      ],
      "text/plain": [
       "<pandas.io.formats.style.Styler at 0x7f8da4e62ee0>"
      ]
     },
     "execution_count": 10,
     "metadata": {},
     "output_type": "execute_result"
    }
   ],
   "source": [
    "aep = plt_calculator.calculate_aep_curve(grouped_plt.plt, grouped_plt.simulations)\n",
    "aep_metrics = aep.curve['Loss'][aep.curve['Loss'].index.isin([1/x for x in aep.RETURN_PERIODS])]\n",
    "aep_metrics.index = np.reciprocal(aep_metrics.index)\n",
    "aep_metrics = aep_metrics.rename_axis(\"Return Period\").sort_index(axis=0, ascending=False)\n",
    "\n",
    "# Return AEP results\n",
    "aep_metrics.to_frame().style.format(\"{:,.0f}\")"
   ]
  },
  {
   "cell_type": "markdown",
   "metadata": {},
   "source": [
    "### Calculate OEP metrics from PLT"
   ]
  },
  {
   "cell_type": "code",
   "execution_count": 11,
   "metadata": {
    "ExecuteTime": {
     "end_time": "2021-11-30T21:11:31.408990Z",
     "start_time": "2021-11-30T21:03:40.567955Z"
    }
   },
   "outputs": [
    {
     "data": {
      "text/html": [
       "<style  type=\"text/css\" >\n",
       "</style><table id=\"T_173f9be2_5222_11ec_abd0_acde48001122\" ><thead>    <tr>        <th class=\"blank level0\" ></th>        <th class=\"col_heading level0 col0\" >Loss</th>    </tr>    <tr>        <th class=\"index_name level0\" >Return Period</th>        <th class=\"blank\" ></th>    </tr></thead><tbody>\n",
       "                <tr>\n",
       "                        <th id=\"T_173f9be2_5222_11ec_abd0_acde48001122level0_row0\" class=\"row_heading level0 row0\" >10000.0</th>\n",
       "                        <td id=\"T_173f9be2_5222_11ec_abd0_acde48001122row0_col0\" class=\"data row0 col0\" >1,971,769</td>\n",
       "            </tr>\n",
       "            <tr>\n",
       "                        <th id=\"T_173f9be2_5222_11ec_abd0_acde48001122level0_row1\" class=\"row_heading level0 row1\" >5000.0</th>\n",
       "                        <td id=\"T_173f9be2_5222_11ec_abd0_acde48001122row1_col0\" class=\"data row1 col0\" >1,759,048</td>\n",
       "            </tr>\n",
       "            <tr>\n",
       "                        <th id=\"T_173f9be2_5222_11ec_abd0_acde48001122level0_row2\" class=\"row_heading level0 row2\" >1000.0</th>\n",
       "                        <td id=\"T_173f9be2_5222_11ec_abd0_acde48001122row2_col0\" class=\"data row2 col0\" >1,232,628</td>\n",
       "            </tr>\n",
       "            <tr>\n",
       "                        <th id=\"T_173f9be2_5222_11ec_abd0_acde48001122level0_row3\" class=\"row_heading level0 row3\" >500.0</th>\n",
       "                        <td id=\"T_173f9be2_5222_11ec_abd0_acde48001122row3_col0\" class=\"data row3 col0\" >998,653</td>\n",
       "            </tr>\n",
       "            <tr>\n",
       "                        <th id=\"T_173f9be2_5222_11ec_abd0_acde48001122level0_row4\" class=\"row_heading level0 row4\" >250.0</th>\n",
       "                        <td id=\"T_173f9be2_5222_11ec_abd0_acde48001122row4_col0\" class=\"data row4 col0\" >767,405</td>\n",
       "            </tr>\n",
       "            <tr>\n",
       "                        <th id=\"T_173f9be2_5222_11ec_abd0_acde48001122level0_row5\" class=\"row_heading level0 row5\" >200.0</th>\n",
       "                        <td id=\"T_173f9be2_5222_11ec_abd0_acde48001122row5_col0\" class=\"data row5 col0\" >696,533</td>\n",
       "            </tr>\n",
       "            <tr>\n",
       "                        <th id=\"T_173f9be2_5222_11ec_abd0_acde48001122level0_row6\" class=\"row_heading level0 row6\" >100.0</th>\n",
       "                        <td id=\"T_173f9be2_5222_11ec_abd0_acde48001122row6_col0\" class=\"data row6 col0\" >523,739</td>\n",
       "            </tr>\n",
       "            <tr>\n",
       "                        <th id=\"T_173f9be2_5222_11ec_abd0_acde48001122level0_row7\" class=\"row_heading level0 row7\" >50.0</th>\n",
       "                        <td id=\"T_173f9be2_5222_11ec_abd0_acde48001122row7_col0\" class=\"data row7 col0\" >355,579</td>\n",
       "            </tr>\n",
       "            <tr>\n",
       "                        <th id=\"T_173f9be2_5222_11ec_abd0_acde48001122level0_row8\" class=\"row_heading level0 row8\" >25.0</th>\n",
       "                        <td id=\"T_173f9be2_5222_11ec_abd0_acde48001122row8_col0\" class=\"data row8 col0\" >152,056</td>\n",
       "            </tr>\n",
       "            <tr>\n",
       "                        <th id=\"T_173f9be2_5222_11ec_abd0_acde48001122level0_row9\" class=\"row_heading level0 row9\" >10.0</th>\n",
       "                        <td id=\"T_173f9be2_5222_11ec_abd0_acde48001122row9_col0\" class=\"data row9 col0\" >25,171</td>\n",
       "            </tr>\n",
       "            <tr>\n",
       "                        <th id=\"T_173f9be2_5222_11ec_abd0_acde48001122level0_row10\" class=\"row_heading level0 row10\" >5.0</th>\n",
       "                        <td id=\"T_173f9be2_5222_11ec_abd0_acde48001122row10_col0\" class=\"data row10 col0\" >2,295</td>\n",
       "            </tr>\n",
       "            <tr>\n",
       "                        <th id=\"T_173f9be2_5222_11ec_abd0_acde48001122level0_row11\" class=\"row_heading level0 row11\" >2.0</th>\n",
       "                        <td id=\"T_173f9be2_5222_11ec_abd0_acde48001122row11_col0\" class=\"data row11 col0\" >0</td>\n",
       "            </tr>\n",
       "    </tbody></table>"
      ],
      "text/plain": [
       "<pandas.io.formats.style.Styler at 0x7f8da50d8610>"
      ]
     },
     "execution_count": 11,
     "metadata": {},
     "output_type": "execute_result"
    }
   ],
   "source": [
    "oep = plt_calculator.calculate_oep_curve(grouped_plt.plt, grouped_plt.simulations)\n",
    "oep_metrics = oep.curve['Loss'][oep.curve['Loss'].index.isin([1/x for x in oep.RETURN_PERIODS])]\n",
    "oep_metrics.index = np.reciprocal(oep_metrics.index)\n",
    "oep_metrics = oep_metrics.rename_axis(\"Return Period\").sort_index(axis=0, ascending=False)\n",
    "\n",
    "# Return OEP results\n",
    "oep_metrics.to_frame().style.format(\"{:,.0f}\")"
   ]
  }
 ],
 "metadata": {
  "hide_input": false,
  "kernelspec": {
   "display_name": "Python 3",
   "language": "python",
   "name": "python3"
  },
  "language_info": {
   "codemirror_mode": {
    "name": "ipython",
    "version": 3
   },
   "file_extension": ".py",
   "mimetype": "text/x-python",
   "name": "python",
   "nbconvert_exporter": "python",
   "pygments_lexer": "ipython3",
   "version": "3.8.5"
  },
  "varInspector": {
   "cols": {
    "lenName": 16,
    "lenType": 16,
    "lenVar": 40
   },
   "kernels_config": {
    "python": {
     "delete_cmd_postfix": "",
     "delete_cmd_prefix": "del ",
     "library": "var_list.py",
     "varRefreshCmd": "print(var_dic_list())"
    },
    "r": {
     "delete_cmd_postfix": ") ",
     "delete_cmd_prefix": "rm(",
     "library": "var_list.r",
     "varRefreshCmd": "cat(var_dic_list()) "
    }
   },
   "types_to_exclude": [
    "module",
    "function",
    "builtin_function_or_method",
    "instance",
    "_Feature"
   ],
   "window_display": false
  }
 },
 "nbformat": 4,
 "nbformat_minor": 4
}
