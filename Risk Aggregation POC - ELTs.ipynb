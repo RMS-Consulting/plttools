{
 "cells": [
  {
   "cell_type": "markdown",
   "metadata": {},
   "source": [
    "# Risk Aggregation POC - ELTs\n",
    "\n",
    "This notebook reads can be used to read in multiple ELTs, rollup the ELTs to an aggregate ELTs, and generate statistics and EP metrics from the ELTs.\n",
    "\n",
    "-----"
   ]
  },
  {
   "cell_type": "markdown",
   "metadata": {},
   "source": [
    "### Install necessary libraries"
   ]
  },
  {
   "cell_type": "code",
   "execution_count": 1,
   "metadata": {
    "ExecuteTime": {
     "end_time": "2021-12-17T23:06:53.428669Z",
     "start_time": "2021-12-17T23:06:53.426268Z"
    }
   },
   "outputs": [],
   "source": [
    "# %pip install pandas\n",
    "# %pip install numpy\n",
    "# %pip install pyarrow\n",
    "# %pip install fastparquet\n",
    "# %pip install rpy2\n",
    "# %pip install scipy==1.6.0\n",
    "# Install to connect to AWS S3\n",
    "# %pip install boto3\n",
    "# %pip install botocore==1.22.5\n",
    "# %pip install s3fs\n",
    "# %pip install fsspec"
   ]
  },
  {
   "cell_type": "code",
   "execution_count": 2,
   "metadata": {
    "ExecuteTime": {
     "end_time": "2021-12-17T23:06:53.432299Z",
     "start_time": "2021-12-17T23:06:53.430578Z"
    }
   },
   "outputs": [],
   "source": [
    "### Import necessary libraries"
   ]
  },
  {
   "cell_type": "code",
   "execution_count": 3,
   "metadata": {
    "ExecuteTime": {
     "end_time": "2021-12-17T23:06:54.361862Z",
     "start_time": "2021-12-17T23:06:53.434222Z"
    }
   },
   "outputs": [],
   "source": [
    "import os\n",
    "import sys\n",
    "import pandas as pd\n",
    "import numpy as np\n",
    "import aggregationtools.elt\n",
    "import aggregationtools\n",
    "from aggregationtools.elt import ELT\n",
    "from aggregationtools import elt_calculator\n",
    "import glob"
   ]
  },
  {
   "cell_type": "markdown",
   "metadata": {},
   "source": [
    "### Import data from AWS S3\n",
    "AWS credentials may be provided explicitly with s3fs.S3FileSystem,\n",
    "but it is more secure to exclude the credentials from the code.\n",
    "Instead use the AWS CLI to `aws configure` credentials."
   ]
  },
  {
   "cell_type": "code",
   "execution_count": 4,
   "metadata": {
    "ExecuteTime": {
     "end_time": "2021-12-17T23:06:54.365940Z",
     "start_time": "2021-12-17T23:06:54.364044Z"
    }
   },
   "outputs": [],
   "source": [
    "# import glob\n",
    "# import s3fs\n",
    "\n",
    "# s3 = s3fs.S3FileSystem(anon=False)\n",
    "# files = s3.glob('s3://fannie-mae-phase-3/03 Data Aggregation POC/01 Test/SCENARIO_DATA/EARTHQUAKE_CA_NY_FL/*.parquet')\n",
    "# elts = pd.concat([pd.read_parquet('s3://' + fp) for fp in files])"
   ]
  },
  {
   "cell_type": "markdown",
   "metadata": {},
   "source": [
    "### Import local data"
   ]
  },
  {
   "cell_type": "code",
   "execution_count": 5,
   "metadata": {
    "ExecuteTime": {
     "end_time": "2021-12-17T23:07:34.151244Z",
     "start_time": "2021-12-17T23:06:54.367868Z"
    }
   },
   "outputs": [],
   "source": [
    "path = os.path.join('AggregationPOCScenarios', 'EARTHQUAKE_CA_NY_FL', '')\n",
    "files = glob.glob(path + '*.parquet')\n",
    "elts = pd.concat([pd.read_parquet(fp) for fp in files])"
   ]
  },
  {
   "cell_type": "markdown",
   "metadata": {},
   "source": [
    "### Create ELT from imported data"
   ]
  },
  {
   "cell_type": "code",
   "execution_count": 6,
   "metadata": {
    "ExecuteTime": {
     "end_time": "2021-12-17T23:07:35.185094Z",
     "start_time": "2021-12-17T23:07:34.153814Z"
    },
    "scrolled": true
   },
   "outputs": [
    {
     "data": {
      "text/html": [
       "<style  type=\"text/css\" >\n",
       "</style><table id=\"T_1f00eb82_5f8e_11ec_81ae_acde48001122\" ><thead>    <tr>        <th class=\"blank level0\" ></th>        <th class=\"col_heading level0 col0\" >AccgrpId</th>        <th class=\"col_heading level0 col1\" >LocName</th>        <th class=\"col_heading level0 col2\" >Lob</th>        <th class=\"col_heading level0 col3\" >EventId</th>        <th class=\"col_heading level0 col4\" >Rate</th>        <th class=\"col_heading level0 col5\" >Loss</th>        <th class=\"col_heading level0 col6\" >StdDevI</th>        <th class=\"col_heading level0 col7\" >StdDevC</th>        <th class=\"col_heading level0 col8\" >ExpValue</th>        <th class=\"col_heading level0 col9\" >StandardDev</th>        <th class=\"col_heading level0 col10\" >mu</th>        <th class=\"col_heading level0 col11\" >sigma</th>        <th class=\"col_heading level0 col12\" >alpha</th>        <th class=\"col_heading level0 col13\" >beta</th>    </tr></thead><tbody>\n",
       "                <tr>\n",
       "                        <th id=\"T_1f00eb82_5f8e_11ec_81ae_acde48001122level0_row0\" class=\"row_heading level0 row0\" >0</th>\n",
       "                        <td id=\"T_1f00eb82_5f8e_11ec_81ae_acde48001122row0_col0\" class=\"data row0 col0\" >3923</td>\n",
       "                        <td id=\"T_1f00eb82_5f8e_11ec_81ae_acde48001122row0_col1\" class=\"data row0 col1\" >0002c2a852d9c0a281fed88d8886d92459e</td>\n",
       "                        <td id=\"T_1f00eb82_5f8e_11ec_81ae_acde48001122row0_col2\" class=\"data row0 col2\" >ATC43</td>\n",
       "                        <td id=\"T_1f00eb82_5f8e_11ec_81ae_acde48001122row0_col3\" class=\"data row0 col3\" >15437392</td>\n",
       "                        <td id=\"T_1f00eb82_5f8e_11ec_81ae_acde48001122row0_col4\" class=\"data row0 col4\" >0.000000</td>\n",
       "                        <td id=\"T_1f00eb82_5f8e_11ec_81ae_acde48001122row0_col5\" class=\"data row0 col5\" >1254.516148</td>\n",
       "                        <td id=\"T_1f00eb82_5f8e_11ec_81ae_acde48001122row0_col6\" class=\"data row0 col6\" >2619.420310</td>\n",
       "                        <td id=\"T_1f00eb82_5f8e_11ec_81ae_acde48001122row0_col7\" class=\"data row0 col7\" >555.634611</td>\n",
       "                        <td id=\"T_1f00eb82_5f8e_11ec_81ae_acde48001122row0_col8\" class=\"data row0 col8\" >201601.626126</td>\n",
       "                        <td id=\"T_1f00eb82_5f8e_11ec_81ae_acde48001122row0_col9\" class=\"data row0 col9\" >3175.054921</td>\n",
       "                        <td id=\"T_1f00eb82_5f8e_11ec_81ae_acde48001122row0_col10\" class=\"data row0 col10\" >0.006223</td>\n",
       "                        <td id=\"T_1f00eb82_5f8e_11ec_81ae_acde48001122row0_col11\" class=\"data row0 col11\" >0.015749</td>\n",
       "                        <td id=\"T_1f00eb82_5f8e_11ec_81ae_acde48001122row0_col12\" class=\"data row0 col12\" >0.148923</td>\n",
       "                        <td id=\"T_1f00eb82_5f8e_11ec_81ae_acde48001122row0_col13\" class=\"data row0 col13\" >23.783062</td>\n",
       "            </tr>\n",
       "            <tr>\n",
       "                        <th id=\"T_1f00eb82_5f8e_11ec_81ae_acde48001122level0_row1\" class=\"row_heading level0 row1\" >1</th>\n",
       "                        <td id=\"T_1f00eb82_5f8e_11ec_81ae_acde48001122row1_col0\" class=\"data row1 col0\" >3923</td>\n",
       "                        <td id=\"T_1f00eb82_5f8e_11ec_81ae_acde48001122row1_col1\" class=\"data row1 col1\" >0002c2a852d9c0a281fed88d8886d92459e</td>\n",
       "                        <td id=\"T_1f00eb82_5f8e_11ec_81ae_acde48001122row1_col2\" class=\"data row1 col2\" >ATC43</td>\n",
       "                        <td id=\"T_1f00eb82_5f8e_11ec_81ae_acde48001122row1_col3\" class=\"data row1 col3\" >15437387</td>\n",
       "                        <td id=\"T_1f00eb82_5f8e_11ec_81ae_acde48001122row1_col4\" class=\"data row1 col4\" >0.000000</td>\n",
       "                        <td id=\"T_1f00eb82_5f8e_11ec_81ae_acde48001122row1_col5\" class=\"data row1 col5\" >129.254763</td>\n",
       "                        <td id=\"T_1f00eb82_5f8e_11ec_81ae_acde48001122row1_col6\" class=\"data row1 col6\" >277.524609</td>\n",
       "                        <td id=\"T_1f00eb82_5f8e_11ec_81ae_acde48001122row1_col7\" class=\"data row1 col7\" >58.868857</td>\n",
       "                        <td id=\"T_1f00eb82_5f8e_11ec_81ae_acde48001122row1_col8\" class=\"data row1 col8\" >201448.770241</td>\n",
       "                        <td id=\"T_1f00eb82_5f8e_11ec_81ae_acde48001122row1_col9\" class=\"data row1 col9\" >336.393466</td>\n",
       "                        <td id=\"T_1f00eb82_5f8e_11ec_81ae_acde48001122row1_col10\" class=\"data row1 col10\" >0.000642</td>\n",
       "                        <td id=\"T_1f00eb82_5f8e_11ec_81ae_acde48001122row1_col11\" class=\"data row1 col11\" >0.001670</td>\n",
       "                        <td id=\"T_1f00eb82_5f8e_11ec_81ae_acde48001122row1_col12\" class=\"data row1 col12\" >0.146902</td>\n",
       "                        <td id=\"T_1f00eb82_5f8e_11ec_81ae_acde48001122row1_col13\" class=\"data row1 col13\" >228.805171</td>\n",
       "            </tr>\n",
       "            <tr>\n",
       "                        <th id=\"T_1f00eb82_5f8e_11ec_81ae_acde48001122level0_row2\" class=\"row_heading level0 row2\" >2</th>\n",
       "                        <td id=\"T_1f00eb82_5f8e_11ec_81ae_acde48001122row2_col0\" class=\"data row2 col0\" >3923</td>\n",
       "                        <td id=\"T_1f00eb82_5f8e_11ec_81ae_acde48001122row2_col1\" class=\"data row2 col1\" >0002c2a852d9c0a281fed88d8886d92459e</td>\n",
       "                        <td id=\"T_1f00eb82_5f8e_11ec_81ae_acde48001122row2_col2\" class=\"data row2 col2\" >ATC43</td>\n",
       "                        <td id=\"T_1f00eb82_5f8e_11ec_81ae_acde48001122row2_col3\" class=\"data row2 col3\" >15434262</td>\n",
       "                        <td id=\"T_1f00eb82_5f8e_11ec_81ae_acde48001122row2_col4\" class=\"data row2 col4\" >0.000000</td>\n",
       "                        <td id=\"T_1f00eb82_5f8e_11ec_81ae_acde48001122row2_col5\" class=\"data row2 col5\" >656.991289</td>\n",
       "                        <td id=\"T_1f00eb82_5f8e_11ec_81ae_acde48001122row2_col6\" class=\"data row2 col6\" >1392.321647</td>\n",
       "                        <td id=\"T_1f00eb82_5f8e_11ec_81ae_acde48001122row2_col7\" class=\"data row2 col7\" >295.340955</td>\n",
       "                        <td id=\"T_1f00eb82_5f8e_11ec_81ae_acde48001122row2_col8\" class=\"data row2 col8\" >200730.347584</td>\n",
       "                        <td id=\"T_1f00eb82_5f8e_11ec_81ae_acde48001122row2_col9\" class=\"data row2 col9\" >1687.662603</td>\n",
       "                        <td id=\"T_1f00eb82_5f8e_11ec_81ae_acde48001122row2_col10\" class=\"data row2 col10\" >0.003273</td>\n",
       "                        <td id=\"T_1f00eb82_5f8e_11ec_81ae_acde48001122row2_col11\" class=\"data row2 col11\" >0.008408</td>\n",
       "                        <td id=\"T_1f00eb82_5f8e_11ec_81ae_acde48001122row2_col12\" class=\"data row2 col12\" >0.147778</td>\n",
       "                        <td id=\"T_1f00eb82_5f8e_11ec_81ae_acde48001122row2_col13\" class=\"data row2 col13\" >45.002850</td>\n",
       "            </tr>\n",
       "            <tr>\n",
       "                        <th id=\"T_1f00eb82_5f8e_11ec_81ae_acde48001122level0_row3\" class=\"row_heading level0 row3\" >3</th>\n",
       "                        <td id=\"T_1f00eb82_5f8e_11ec_81ae_acde48001122row3_col0\" class=\"data row3 col0\" >3923</td>\n",
       "                        <td id=\"T_1f00eb82_5f8e_11ec_81ae_acde48001122row3_col1\" class=\"data row3 col1\" >0002c2a852d9c0a281fed88d8886d92459e</td>\n",
       "                        <td id=\"T_1f00eb82_5f8e_11ec_81ae_acde48001122row3_col2\" class=\"data row3 col2\" >ATC43</td>\n",
       "                        <td id=\"T_1f00eb82_5f8e_11ec_81ae_acde48001122row3_col3\" class=\"data row3 col3\" >15434259</td>\n",
       "                        <td id=\"T_1f00eb82_5f8e_11ec_81ae_acde48001122row3_col4\" class=\"data row3 col4\" >0.000000</td>\n",
       "                        <td id=\"T_1f00eb82_5f8e_11ec_81ae_acde48001122row3_col5\" class=\"data row3 col5\" >3199.460520</td>\n",
       "                        <td id=\"T_1f00eb82_5f8e_11ec_81ae_acde48001122row3_col6\" class=\"data row3 col6\" >6347.416511</td>\n",
       "                        <td id=\"T_1f00eb82_5f8e_11ec_81ae_acde48001122row3_col7\" class=\"data row3 col7\" >1346.421684</td>\n",
       "                        <td id=\"T_1f00eb82_5f8e_11ec_81ae_acde48001122row3_col8\" class=\"data row3 col8\" >199354.644623</td>\n",
       "                        <td id=\"T_1f00eb82_5f8e_11ec_81ae_acde48001122row3_col9\" class=\"data row3 col9\" >7693.838195</td>\n",
       "                        <td id=\"T_1f00eb82_5f8e_11ec_81ae_acde48001122row3_col10\" class=\"data row3 col10\" >0.016049</td>\n",
       "                        <td id=\"T_1f00eb82_5f8e_11ec_81ae_acde48001122row3_col11\" class=\"data row3 col11\" >0.038594</td>\n",
       "                        <td id=\"T_1f00eb82_5f8e_11ec_81ae_acde48001122row3_col12\" class=\"data row3 col12\" >0.154104</td>\n",
       "                        <td id=\"T_1f00eb82_5f8e_11ec_81ae_acde48001122row3_col13\" class=\"data row3 col13\" >9.447960</td>\n",
       "            </tr>\n",
       "            <tr>\n",
       "                        <th id=\"T_1f00eb82_5f8e_11ec_81ae_acde48001122level0_row4\" class=\"row_heading level0 row4\" >4</th>\n",
       "                        <td id=\"T_1f00eb82_5f8e_11ec_81ae_acde48001122row4_col0\" class=\"data row4 col0\" >3923</td>\n",
       "                        <td id=\"T_1f00eb82_5f8e_11ec_81ae_acde48001122row4_col1\" class=\"data row4 col1\" >0002c2a852d9c0a281fed88d8886d92459e</td>\n",
       "                        <td id=\"T_1f00eb82_5f8e_11ec_81ae_acde48001122row4_col2\" class=\"data row4 col2\" >ATC43</td>\n",
       "                        <td id=\"T_1f00eb82_5f8e_11ec_81ae_acde48001122row4_col3\" class=\"data row4 col3\" >15434257</td>\n",
       "                        <td id=\"T_1f00eb82_5f8e_11ec_81ae_acde48001122row4_col4\" class=\"data row4 col4\" >0.000000</td>\n",
       "                        <td id=\"T_1f00eb82_5f8e_11ec_81ae_acde48001122row4_col5\" class=\"data row4 col5\" >714.610089</td>\n",
       "                        <td id=\"T_1f00eb82_5f8e_11ec_81ae_acde48001122row4_col6\" class=\"data row4 col6\" >1512.091439</td>\n",
       "                        <td id=\"T_1f00eb82_5f8e_11ec_81ae_acde48001122row4_col7\" class=\"data row4 col7\" >320.746669</td>\n",
       "                        <td id=\"T_1f00eb82_5f8e_11ec_81ae_acde48001122row4_col8\" class=\"data row4 col8\" >199507.500508</td>\n",
       "                        <td id=\"T_1f00eb82_5f8e_11ec_81ae_acde48001122row4_col9\" class=\"data row4 col9\" >1832.838108</td>\n",
       "                        <td id=\"T_1f00eb82_5f8e_11ec_81ae_acde48001122row4_col10\" class=\"data row4 col10\" >0.003582</td>\n",
       "                        <td id=\"T_1f00eb82_5f8e_11ec_81ae_acde48001122row4_col11\" class=\"data row4 col11\" >0.009187</td>\n",
       "                        <td id=\"T_1f00eb82_5f8e_11ec_81ae_acde48001122row4_col12\" class=\"data row4 col12\" >0.147890</td>\n",
       "                        <td id=\"T_1f00eb82_5f8e_11ec_81ae_acde48001122row4_col13\" class=\"data row4 col13\" >41.140561</td>\n",
       "            </tr>\n",
       "    </tbody></table>"
      ],
      "text/plain": [
       "<pandas.io.formats.style.Styler at 0x7f9d168ea8b0>"
      ]
     },
     "execution_count": 6,
     "metadata": {},
     "output_type": "execute_result"
    }
   ],
   "source": [
    "# json_test = plts.to_dict(orient='records')\n",
    "original_elt = aggregationtools.elt.ELT(data = elts)\n",
    "original_elt.elt.head(5).style"
   ]
  },
  {
   "cell_type": "markdown",
   "metadata": {},
   "source": [
    "### Group ELTs"
   ]
  },
  {
   "cell_type": "code",
   "execution_count": 7,
   "metadata": {
    "ExecuteTime": {
     "end_time": "2021-12-17T23:07:56.605700Z",
     "start_time": "2021-12-17T23:07:35.188933Z"
    }
   },
   "outputs": [
    {
     "data": {
      "text/html": [
       "<style  type=\"text/css\" >\n",
       "</style><table id=\"T_2bc57b4e_5f8e_11ec_81ae_acde48001122\" ><thead>    <tr>        <th class=\"blank level0\" ></th>        <th class=\"col_heading level0 col0\" >EventId</th>        <th class=\"col_heading level0 col1\" >Rate</th>        <th class=\"col_heading level0 col2\" >Loss</th>        <th class=\"col_heading level0 col3\" >StdDevI</th>        <th class=\"col_heading level0 col4\" >StdDevC</th>        <th class=\"col_heading level0 col5\" >ExpValue</th>        <th class=\"col_heading level0 col6\" >StandardDev</th>        <th class=\"col_heading level0 col7\" >mu</th>        <th class=\"col_heading level0 col8\" >sigma</th>        <th class=\"col_heading level0 col9\" >alpha</th>        <th class=\"col_heading level0 col10\" >beta</th>    </tr></thead><tbody>\n",
       "                <tr>\n",
       "                        <th id=\"T_2bc57b4e_5f8e_11ec_81ae_acde48001122level0_row0\" class=\"row_heading level0 row0\" >0</th>\n",
       "                        <td id=\"T_2bc57b4e_5f8e_11ec_81ae_acde48001122row0_col0\" class=\"data row0 col0\" >15072596</td>\n",
       "                        <td id=\"T_2bc57b4e_5f8e_11ec_81ae_acde48001122row0_col1\" class=\"data row0 col1\" >0.000020</td>\n",
       "                        <td id=\"T_2bc57b4e_5f8e_11ec_81ae_acde48001122row0_col2\" class=\"data row0 col2\" >1854.150706</td>\n",
       "                        <td id=\"T_2bc57b4e_5f8e_11ec_81ae_acde48001122row0_col3\" class=\"data row0 col3\" >3535.919802</td>\n",
       "                        <td id=\"T_2bc57b4e_5f8e_11ec_81ae_acde48001122row0_col4\" class=\"data row0 col4\" >883.979950</td>\n",
       "                        <td id=\"T_2bc57b4e_5f8e_11ec_81ae_acde48001122row0_col5\" class=\"data row0 col5\" >99999.990000</td>\n",
       "                        <td id=\"T_2bc57b4e_5f8e_11ec_81ae_acde48001122row0_col6\" class=\"data row0 col6\" >4419.899752</td>\n",
       "                        <td id=\"T_2bc57b4e_5f8e_11ec_81ae_acde48001122row0_col7\" class=\"data row0 col7\" >0.018542</td>\n",
       "                        <td id=\"T_2bc57b4e_5f8e_11ec_81ae_acde48001122row0_col8\" class=\"data row0 col8\" >0.044199</td>\n",
       "                        <td id=\"T_2bc57b4e_5f8e_11ec_81ae_acde48001122row0_col9\" class=\"data row0 col9\" >0.154176</td>\n",
       "                        <td id=\"T_2bc57b4e_5f8e_11ec_81ae_acde48001122row0_col10\" class=\"data row0 col10\" >8.161022</td>\n",
       "            </tr>\n",
       "            <tr>\n",
       "                        <th id=\"T_2bc57b4e_5f8e_11ec_81ae_acde48001122level0_row1\" class=\"row_heading level0 row1\" >1</th>\n",
       "                        <td id=\"T_2bc57b4e_5f8e_11ec_81ae_acde48001122row1_col0\" class=\"data row1 col0\" >15072380</td>\n",
       "                        <td id=\"T_2bc57b4e_5f8e_11ec_81ae_acde48001122row1_col1\" class=\"data row1 col1\" >0.000034</td>\n",
       "                        <td id=\"T_2bc57b4e_5f8e_11ec_81ae_acde48001122row1_col2\" class=\"data row1 col2\" >1080.485117</td>\n",
       "                        <td id=\"T_2bc57b4e_5f8e_11ec_81ae_acde48001122row1_col3\" class=\"data row1 col3\" >2146.784497</td>\n",
       "                        <td id=\"T_2bc57b4e_5f8e_11ec_81ae_acde48001122row1_col4\" class=\"data row1 col4\" >536.696124</td>\n",
       "                        <td id=\"T_2bc57b4e_5f8e_11ec_81ae_acde48001122row1_col5\" class=\"data row1 col5\" >99999.990000</td>\n",
       "                        <td id=\"T_2bc57b4e_5f8e_11ec_81ae_acde48001122row1_col6\" class=\"data row1 col6\" >2683.480621</td>\n",
       "                        <td id=\"T_2bc57b4e_5f8e_11ec_81ae_acde48001122row1_col7\" class=\"data row1 col7\" >0.010805</td>\n",
       "                        <td id=\"T_2bc57b4e_5f8e_11ec_81ae_acde48001122row1_col8\" class=\"data row1 col8\" >0.026835</td>\n",
       "                        <td id=\"T_2bc57b4e_5f8e_11ec_81ae_acde48001122row1_col9\" class=\"data row1 col9\" >0.149565</td>\n",
       "                        <td id=\"T_2bc57b4e_5f8e_11ec_81ae_acde48001122row1_col10\" class=\"data row1 col10\" >13.692824</td>\n",
       "            </tr>\n",
       "            <tr>\n",
       "                        <th id=\"T_2bc57b4e_5f8e_11ec_81ae_acde48001122level0_row2\" class=\"row_heading level0 row2\" >2</th>\n",
       "                        <td id=\"T_2bc57b4e_5f8e_11ec_81ae_acde48001122row2_col0\" class=\"data row2 col0\" >15072306</td>\n",
       "                        <td id=\"T_2bc57b4e_5f8e_11ec_81ae_acde48001122row2_col1\" class=\"data row2 col1\" >0.000050</td>\n",
       "                        <td id=\"T_2bc57b4e_5f8e_11ec_81ae_acde48001122row2_col2\" class=\"data row2 col2\" >69.499806</td>\n",
       "                        <td id=\"T_2bc57b4e_5f8e_11ec_81ae_acde48001122row2_col3\" class=\"data row2 col3\" >145.338224</td>\n",
       "                        <td id=\"T_2bc57b4e_5f8e_11ec_81ae_acde48001122row2_col4\" class=\"data row2 col4\" >36.334556</td>\n",
       "                        <td id=\"T_2bc57b4e_5f8e_11ec_81ae_acde48001122row2_col5\" class=\"data row2 col5\" >99999.990000</td>\n",
       "                        <td id=\"T_2bc57b4e_5f8e_11ec_81ae_acde48001122row2_col6\" class=\"data row2 col6\" >181.672780</td>\n",
       "                        <td id=\"T_2bc57b4e_5f8e_11ec_81ae_acde48001122row2_col7\" class=\"data row2 col7\" >0.000695</td>\n",
       "                        <td id=\"T_2bc57b4e_5f8e_11ec_81ae_acde48001122row2_col8\" class=\"data row2 col8\" >0.001817</td>\n",
       "                        <td id=\"T_2bc57b4e_5f8e_11ec_81ae_acde48001122row2_col9\" class=\"data row2 col9\" >0.145552</td>\n",
       "                        <td id=\"T_2bc57b4e_5f8e_11ec_81ae_acde48001122row2_col10\" class=\"data row2 col10\" >209.281652</td>\n",
       "            </tr>\n",
       "            <tr>\n",
       "                        <th id=\"T_2bc57b4e_5f8e_11ec_81ae_acde48001122level0_row3\" class=\"row_heading level0 row3\" >3</th>\n",
       "                        <td id=\"T_2bc57b4e_5f8e_11ec_81ae_acde48001122row3_col0\" class=\"data row3 col0\" >15072904</td>\n",
       "                        <td id=\"T_2bc57b4e_5f8e_11ec_81ae_acde48001122row3_col1\" class=\"data row3 col1\" >0.000015</td>\n",
       "                        <td id=\"T_2bc57b4e_5f8e_11ec_81ae_acde48001122row3_col2\" class=\"data row3 col2\" >6.536827</td>\n",
       "                        <td id=\"T_2bc57b4e_5f8e_11ec_81ae_acde48001122row3_col3\" class=\"data row3 col3\" >13.712308</td>\n",
       "                        <td id=\"T_2bc57b4e_5f8e_11ec_81ae_acde48001122row3_col4\" class=\"data row3 col4\" >3.428077</td>\n",
       "                        <td id=\"T_2bc57b4e_5f8e_11ec_81ae_acde48001122row3_col5\" class=\"data row3 col5\" >99999.990000</td>\n",
       "                        <td id=\"T_2bc57b4e_5f8e_11ec_81ae_acde48001122row3_col6\" class=\"data row3 col6\" >17.140385</td>\n",
       "                        <td id=\"T_2bc57b4e_5f8e_11ec_81ae_acde48001122row3_col7\" class=\"data row3 col7\" >0.000065</td>\n",
       "                        <td id=\"T_2bc57b4e_5f8e_11ec_81ae_acde48001122row3_col8\" class=\"data row3 col8\" >0.000171</td>\n",
       "                        <td id=\"T_2bc57b4e_5f8e_11ec_81ae_acde48001122row3_col9\" class=\"data row3 col9\" >0.145368</td>\n",
       "                        <td id=\"T_2bc57b4e_5f8e_11ec_81ae_acde48001122row3_col10\" class=\"data row3 col10\" >2223.687603</td>\n",
       "            </tr>\n",
       "            <tr>\n",
       "                        <th id=\"T_2bc57b4e_5f8e_11ec_81ae_acde48001122level0_row4\" class=\"row_heading level0 row4\" >4</th>\n",
       "                        <td id=\"T_2bc57b4e_5f8e_11ec_81ae_acde48001122row4_col0\" class=\"data row4 col0\" >15072502</td>\n",
       "                        <td id=\"T_2bc57b4e_5f8e_11ec_81ae_acde48001122row4_col1\" class=\"data row4 col1\" >0.000029</td>\n",
       "                        <td id=\"T_2bc57b4e_5f8e_11ec_81ae_acde48001122row4_col2\" class=\"data row4 col2\" >232.392318</td>\n",
       "                        <td id=\"T_2bc57b4e_5f8e_11ec_81ae_acde48001122row4_col3\" class=\"data row4 col3\" >482.073016</td>\n",
       "                        <td id=\"T_2bc57b4e_5f8e_11ec_81ae_acde48001122row4_col4\" class=\"data row4 col4\" >120.518254</td>\n",
       "                        <td id=\"T_2bc57b4e_5f8e_11ec_81ae_acde48001122row4_col5\" class=\"data row4 col5\" >99999.990000</td>\n",
       "                        <td id=\"T_2bc57b4e_5f8e_11ec_81ae_acde48001122row4_col6\" class=\"data row4 col6\" >602.591270</td>\n",
       "                        <td id=\"T_2bc57b4e_5f8e_11ec_81ae_acde48001122row4_col7\" class=\"data row4 col7\" >0.002324</td>\n",
       "                        <td id=\"T_2bc57b4e_5f8e_11ec_81ae_acde48001122row4_col8\" class=\"data row4 col8\" >0.006026</td>\n",
       "                        <td id=\"T_2bc57b4e_5f8e_11ec_81ae_acde48001122row4_col9\" class=\"data row4 col9\" >0.146060</td>\n",
       "                        <td id=\"T_2bc57b4e_5f8e_11ec_81ae_acde48001122row4_col10\" class=\"data row4 col10\" >62.704632</td>\n",
       "            </tr>\n",
       "    </tbody></table>"
      ],
      "text/plain": [
       "<pandas.io.formats.style.Styler at 0x7f9d28fae8e0>"
      ]
     },
     "execution_count": 7,
     "metadata": {},
     "output_type": "execute_result"
    }
   ],
   "source": [
    "grouped_elt = elt_calculator.group_elts(original_elt)\n",
    "grouped_elt.elt.head(5).style"
   ]
  },
  {
   "cell_type": "markdown",
   "metadata": {},
   "source": [
    "### Calculate statistics from grouped ELT"
   ]
  },
  {
   "cell_type": "code",
   "execution_count": 8,
   "metadata": {
    "ExecuteTime": {
     "end_time": "2021-12-17T23:07:56.623604Z",
     "start_time": "2021-12-17T23:07:56.608536Z"
    }
   },
   "outputs": [
    {
     "name": "stdout",
     "output_type": "stream",
     "text": [
      "AAL: 220977.9676848252\n",
      "STD: 871605.8685159368\n",
      "CovVar: 3.9443111801945983\n"
     ]
    }
   ],
   "source": [
    "aal = grouped_elt.get_aal()\n",
    "std = grouped_elt.get_standard_deviation()\n",
    "grouped_elt.elt.style\n",
    "covvar = grouped_elt.get_covvar()\n",
    "print('AAL: ' + str(aal))\n",
    "print('STD: ' + str(std))\n",
    "print('CovVar: ' + str(covvar))"
   ]
  },
  {
   "cell_type": "markdown",
   "metadata": {},
   "source": [
    "### Calculate AEP & OEP metrics from ELT"
   ]
  },
  {
   "cell_type": "code",
   "execution_count": 9,
   "metadata": {
    "ExecuteTime": {
     "end_time": "2021-12-17T23:12:19.926333Z",
     "start_time": "2021-12-17T23:07:56.626255Z"
    }
   },
   "outputs": [
    {
     "data": {
      "text/html": [
       "<style  type=\"text/css\" >\n",
       "</style><table id=\"T_c8b95ac4_5f8e_11ec_81ae_acde48001122\" ><thead>    <tr>        <th class=\"blank level0\" ></th>        <th class=\"col_heading level0 col0\" >Loss</th>    </tr>    <tr>        <th class=\"index_name level0\" >Return Period</th>        <th class=\"blank\" ></th>    </tr></thead><tbody>\n",
       "                <tr>\n",
       "                        <th id=\"T_c8b95ac4_5f8e_11ec_81ae_acde48001122level0_row0\" class=\"row_heading level0 row0\" >50000.0</th>\n",
       "                        <td id=\"T_c8b95ac4_5f8e_11ec_81ae_acde48001122row0_col0\" class=\"data row0 col0\" >28,580,351</td>\n",
       "            </tr>\n",
       "            <tr>\n",
       "                        <th id=\"T_c8b95ac4_5f8e_11ec_81ae_acde48001122level0_row1\" class=\"row_heading level0 row1\" >10000.0</th>\n",
       "                        <td id=\"T_c8b95ac4_5f8e_11ec_81ae_acde48001122row1_col0\" class=\"data row1 col0\" >18,417,082</td>\n",
       "            </tr>\n",
       "            <tr>\n",
       "                        <th id=\"T_c8b95ac4_5f8e_11ec_81ae_acde48001122level0_row2\" class=\"row_heading level0 row2\" >5000.0</th>\n",
       "                        <td id=\"T_c8b95ac4_5f8e_11ec_81ae_acde48001122row2_col0\" class=\"data row2 col0\" >15,615,291</td>\n",
       "            </tr>\n",
       "            <tr>\n",
       "                        <th id=\"T_c8b95ac4_5f8e_11ec_81ae_acde48001122level0_row3\" class=\"row_heading level0 row3\" >1000.0</th>\n",
       "                        <td id=\"T_c8b95ac4_5f8e_11ec_81ae_acde48001122row3_col0\" class=\"data row3 col0\" >10,202,752</td>\n",
       "            </tr>\n",
       "            <tr>\n",
       "                        <th id=\"T_c8b95ac4_5f8e_11ec_81ae_acde48001122level0_row4\" class=\"row_heading level0 row4\" >500.0</th>\n",
       "                        <td id=\"T_c8b95ac4_5f8e_11ec_81ae_acde48001122row4_col0\" class=\"data row4 col0\" >8,075,735</td>\n",
       "            </tr>\n",
       "            <tr>\n",
       "                        <th id=\"T_c8b95ac4_5f8e_11ec_81ae_acde48001122level0_row5\" class=\"row_heading level0 row5\" >250.0</th>\n",
       "                        <td id=\"T_c8b95ac4_5f8e_11ec_81ae_acde48001122row5_col0\" class=\"data row5 col0\" >6,133,646</td>\n",
       "            </tr>\n",
       "            <tr>\n",
       "                        <th id=\"T_c8b95ac4_5f8e_11ec_81ae_acde48001122level0_row6\" class=\"row_heading level0 row6\" >200.0</th>\n",
       "                        <td id=\"T_c8b95ac4_5f8e_11ec_81ae_acde48001122row6_col0\" class=\"data row6 col0\" >5,562,561</td>\n",
       "            </tr>\n",
       "            <tr>\n",
       "                        <th id=\"T_c8b95ac4_5f8e_11ec_81ae_acde48001122level0_row7\" class=\"row_heading level0 row7\" >100.0</th>\n",
       "                        <td id=\"T_c8b95ac4_5f8e_11ec_81ae_acde48001122row7_col0\" class=\"data row7 col0\" >3,943,111</td>\n",
       "            </tr>\n",
       "            <tr>\n",
       "                        <th id=\"T_c8b95ac4_5f8e_11ec_81ae_acde48001122level0_row8\" class=\"row_heading level0 row8\" >50.0</th>\n",
       "                        <td id=\"T_c8b95ac4_5f8e_11ec_81ae_acde48001122row8_col0\" class=\"data row8 col0\" >2,504,840</td>\n",
       "            </tr>\n",
       "            <tr>\n",
       "                        <th id=\"T_c8b95ac4_5f8e_11ec_81ae_acde48001122level0_row9\" class=\"row_heading level0 row9\" >25.0</th>\n",
       "                        <td id=\"T_c8b95ac4_5f8e_11ec_81ae_acde48001122row9_col0\" class=\"data row9 col0\" >1,292,794</td>\n",
       "            </tr>\n",
       "            <tr>\n",
       "                        <th id=\"T_c8b95ac4_5f8e_11ec_81ae_acde48001122level0_row10\" class=\"row_heading level0 row10\" >10.0</th>\n",
       "                        <td id=\"T_c8b95ac4_5f8e_11ec_81ae_acde48001122row10_col0\" class=\"data row10 col0\" >387,447</td>\n",
       "            </tr>\n",
       "            <tr>\n",
       "                        <th id=\"T_c8b95ac4_5f8e_11ec_81ae_acde48001122level0_row11\" class=\"row_heading level0 row11\" >5.0</th>\n",
       "                        <td id=\"T_c8b95ac4_5f8e_11ec_81ae_acde48001122row11_col0\" class=\"data row11 col0\" >112,472</td>\n",
       "            </tr>\n",
       "            <tr>\n",
       "                        <th id=\"T_c8b95ac4_5f8e_11ec_81ae_acde48001122level0_row12\" class=\"row_heading level0 row12\" >2.0</th>\n",
       "                        <td id=\"T_c8b95ac4_5f8e_11ec_81ae_acde48001122row12_col0\" class=\"data row12 col0\" >16,617</td>\n",
       "            </tr>\n",
       "    </tbody></table>"
      ],
      "text/plain": [
       "<pandas.io.formats.style.Styler at 0x7f9c7efd1a60>"
      ]
     },
     "execution_count": 9,
     "metadata": {},
     "output_type": "execute_result"
    }
   ],
   "source": [
    "oep = elt_calculator.calculate_oep_curve(grouped_elt.elt)\n",
    "standard_rp_oep = oep.get_standard_return_period_ep()\n",
    "standard_rp_oep = pd.DataFrame.from_dict([standard_rp_oep]).T\n",
    "standard_rp_oep = standard_rp_oep[standard_rp_oep.index.isin([1 / x for x in oep.RETURN_PERIODS])]\n",
    "standard_rp_oep = standard_rp_oep.rename_axis(\"Return Period\").sort_index(axis=0, ascending=True)\n",
    "standard_rp_oep.columns = [\"Loss\"]\n",
    "standard_rp_oep.index = np.reciprocal(standard_rp_oep.index).to_series().apply(lambda x: np.round(x,2))\n",
    "# Return OEP results\n",
    "standard_rp_oep.style.format(\"{:,.0f}\")"
   ]
  },
  {
   "cell_type": "code",
   "execution_count": 10,
   "metadata": {
    "ExecuteTime": {
     "end_time": "2021-12-17T23:44:30.672587Z",
     "start_time": "2021-12-17T23:12:19.927977Z"
    }
   },
   "outputs": [
    {
     "data": {
      "text/html": [
       "<style  type=\"text/css\" >\n",
       "</style><table id=\"T_478101fa_5f93_11ec_81ae_acde48001122\" ><thead>    <tr>        <th class=\"blank level0\" ></th>        <th class=\"col_heading level0 col0\" >Loss</th>    </tr>    <tr>        <th class=\"index_name level0\" >Return Period</th>        <th class=\"blank\" ></th>    </tr></thead><tbody>\n",
       "                <tr>\n",
       "                        <th id=\"T_478101fa_5f93_11ec_81ae_acde48001122level0_row0\" class=\"row_heading level0 row0\" >50000.0</th>\n",
       "                        <td id=\"T_478101fa_5f93_11ec_81ae_acde48001122row0_col0\" class=\"data row0 col0\" >28,934,697</td>\n",
       "            </tr>\n",
       "            <tr>\n",
       "                        <th id=\"T_478101fa_5f93_11ec_81ae_acde48001122level0_row1\" class=\"row_heading level0 row1\" >10000.0</th>\n",
       "                        <td id=\"T_478101fa_5f93_11ec_81ae_acde48001122row1_col0\" class=\"data row1 col0\" >18,810,567</td>\n",
       "            </tr>\n",
       "            <tr>\n",
       "                        <th id=\"T_478101fa_5f93_11ec_81ae_acde48001122level0_row2\" class=\"row_heading level0 row2\" >5000.0</th>\n",
       "                        <td id=\"T_478101fa_5f93_11ec_81ae_acde48001122row2_col0\" class=\"data row2 col0\" >15,983,321</td>\n",
       "            </tr>\n",
       "            <tr>\n",
       "                        <th id=\"T_478101fa_5f93_11ec_81ae_acde48001122level0_row3\" class=\"row_heading level0 row3\" >1000.0</th>\n",
       "                        <td id=\"T_478101fa_5f93_11ec_81ae_acde48001122row3_col0\" class=\"data row3 col0\" >10,505,096</td>\n",
       "            </tr>\n",
       "            <tr>\n",
       "                        <th id=\"T_478101fa_5f93_11ec_81ae_acde48001122level0_row4\" class=\"row_heading level0 row4\" >500.0</th>\n",
       "                        <td id=\"T_478101fa_5f93_11ec_81ae_acde48001122row4_col0\" class=\"data row4 col0\" >8,352,352</td>\n",
       "            </tr>\n",
       "            <tr>\n",
       "                        <th id=\"T_478101fa_5f93_11ec_81ae_acde48001122level0_row5\" class=\"row_heading level0 row5\" >250.0</th>\n",
       "                        <td id=\"T_478101fa_5f93_11ec_81ae_acde48001122row5_col0\" class=\"data row5 col0\" >6,372,944</td>\n",
       "            </tr>\n",
       "            <tr>\n",
       "                        <th id=\"T_478101fa_5f93_11ec_81ae_acde48001122level0_row6\" class=\"row_heading level0 row6\" >200.0</th>\n",
       "                        <td id=\"T_478101fa_5f93_11ec_81ae_acde48001122row6_col0\" class=\"data row6 col0\" >5,787,078</td>\n",
       "            </tr>\n",
       "            <tr>\n",
       "                        <th id=\"T_478101fa_5f93_11ec_81ae_acde48001122level0_row7\" class=\"row_heading level0 row7\" >100.0</th>\n",
       "                        <td id=\"T_478101fa_5f93_11ec_81ae_acde48001122row7_col0\" class=\"data row7 col0\" >4,120,424</td>\n",
       "            </tr>\n",
       "            <tr>\n",
       "                        <th id=\"T_478101fa_5f93_11ec_81ae_acde48001122level0_row8\" class=\"row_heading level0 row8\" >50.0</th>\n",
       "                        <td id=\"T_478101fa_5f93_11ec_81ae_acde48001122row8_col0\" class=\"data row8 col0\" >2,639,826</td>\n",
       "            </tr>\n",
       "            <tr>\n",
       "                        <th id=\"T_478101fa_5f93_11ec_81ae_acde48001122level0_row9\" class=\"row_heading level0 row9\" >25.0</th>\n",
       "                        <td id=\"T_478101fa_5f93_11ec_81ae_acde48001122row9_col0\" class=\"data row9 col0\" >1,391,253</td>\n",
       "            </tr>\n",
       "            <tr>\n",
       "                        <th id=\"T_478101fa_5f93_11ec_81ae_acde48001122level0_row10\" class=\"row_heading level0 row10\" >10.0</th>\n",
       "                        <td id=\"T_478101fa_5f93_11ec_81ae_acde48001122row10_col0\" class=\"data row10 col0\" >437,691</td>\n",
       "            </tr>\n",
       "            <tr>\n",
       "                        <th id=\"T_478101fa_5f93_11ec_81ae_acde48001122level0_row11\" class=\"row_heading level0 row11\" >5.0</th>\n",
       "                        <td id=\"T_478101fa_5f93_11ec_81ae_acde48001122row11_col0\" class=\"data row11 col0\" >138,104</td>\n",
       "            </tr>\n",
       "            <tr>\n",
       "                        <th id=\"T_478101fa_5f93_11ec_81ae_acde48001122level0_row12\" class=\"row_heading level0 row12\" >2.0</th>\n",
       "                        <td id=\"T_478101fa_5f93_11ec_81ae_acde48001122row12_col0\" class=\"data row12 col0\" >25,566</td>\n",
       "            </tr>\n",
       "    </tbody></table>"
      ],
      "text/plain": [
       "<pandas.io.formats.style.Styler at 0x7f9c7ef15b50>"
      ]
     },
     "execution_count": 10,
     "metadata": {},
     "output_type": "execute_result"
    }
   ],
   "source": [
    "aep = elt_calculator.calculate_aep_curve(grouped_elt.elt)\n",
    "standard_rp_aep = aep.get_standard_return_period_ep()\n",
    "standard_rp_aep = pd.DataFrame.from_dict([standard_rp_aep]).T\n",
    "standard_rp_aep = standard_rp_aep[standard_rp_aep.index.isin([1 / x for x in aep.RETURN_PERIODS])]\n",
    "standard_rp_aep = standard_rp_aep.rename_axis(\"Return Period\").sort_index(axis=0, ascending=True)\n",
    "standard_rp_aep.columns = [\"Loss\"]\n",
    "standard_rp_aep.index = np.reciprocal(standard_rp_aep.index).to_series().apply(lambda x: np.round(x,2))\n",
    "# Return AEP results\n",
    "standard_rp_aep.style.format(\"{:,.0f}\")"
   ]
  },
  {
   "cell_type": "code",
   "execution_count": null,
   "metadata": {},
   "outputs": [],
   "source": []
  }
 ],
 "metadata": {
  "hide_input": false,
  "kernelspec": {
   "display_name": "Python 3",
   "language": "python",
   "name": "python3"
  },
  "language_info": {
   "codemirror_mode": {
    "name": "ipython",
    "version": 3
   },
   "file_extension": ".py",
   "mimetype": "text/x-python",
   "name": "python",
   "nbconvert_exporter": "python",
   "pygments_lexer": "ipython3",
   "version": "3.8.5"
  },
  "varInspector": {
   "cols": {
    "lenName": 16,
    "lenType": 16,
    "lenVar": 40
   },
   "kernels_config": {
    "python": {
     "delete_cmd_postfix": "",
     "delete_cmd_prefix": "del ",
     "library": "var_list.py",
     "varRefreshCmd": "print(var_dic_list())"
    },
    "r": {
     "delete_cmd_postfix": ") ",
     "delete_cmd_prefix": "rm(",
     "library": "var_list.r",
     "varRefreshCmd": "cat(var_dic_list()) "
    }
   },
   "types_to_exclude": [
    "module",
    "function",
    "builtin_function_or_method",
    "instance",
    "_Feature"
   ],
   "window_display": false
  }
 },
 "nbformat": 4,
 "nbformat_minor": 4
}
